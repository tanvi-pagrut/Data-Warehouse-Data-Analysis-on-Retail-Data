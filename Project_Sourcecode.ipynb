{
 "cells": [
  {
   "cell_type": "code",
   "execution_count": 1,
   "id": "85171876-0465-4bf4-a1b6-b2669e75aa80",
   "metadata": {
    "tags": []
   },
   "outputs": [],
   "source": [
    "from couchbase.auth import PasswordAuthenticator\n",
    "from couchbase.options import ClusterOptions\n",
    "from couchbase.cluster import Cluster\n",
    "from couchbase.management.buckets import BucketSettings, BucketType"
   ]
  },
  {
   "cell_type": "code",
   "execution_count": 2,
   "id": "646e7ba5-4e80-4ce3-a47c-a583d1929810",
   "metadata": {
    "tags": []
   },
   "outputs": [],
   "source": [
    "import numpy as np\n",
    "import pandas as pd"
   ]
  },
  {
   "cell_type": "code",
   "execution_count": 3,
   "id": "851d81d8-a8df-4d78-8087-0e9c3696831a",
   "metadata": {
    "tags": []
   },
   "outputs": [],
   "source": [
    "#created couchbase database (new database which has not been thought in class and it is NoSQL database)\n",
    "#Installed apache nifi ETL tool and used it to extract transaction excel files from different folder to here and automated the process\n",
    "#Data Source for this Project:\n",
    "#1.Excel files for transaction data\n",
    "#2. CounchBase and Apache Nifi for cahier data storage and extract."
   ]
  },
  {
   "cell_type": "code",
   "execution_count": 4,
   "id": "29230662-f524-44b1-a886-ac949561ee92",
   "metadata": {
    "tags": []
   },
   "outputs": [
    {
     "name": "stdin",
     "output_type": "stream",
     "text": [
      "Enter your Couchbase username:  Administrator\n",
      "Enter your Couchbase password:  ········\n"
     ]
    }
   ],
   "source": [
    "from getpass import getpass\n",
    "username = input(\"Enter your Couchbase username: \")\n",
    "password = getpass(\"Enter your Couchbase password: \")\n",
    "cluster = Cluster('couchbase://localhost', ClusterOptions(\n",
    "    PasswordAuthenticator(username, password)))"
   ]
  },
  {
   "cell_type": "code",
   "execution_count": 5,
   "id": "9f657724-e0dc-4aae-acff-f525c5a4541e",
   "metadata": {
    "tags": []
   },
   "outputs": [],
   "source": [
    "#importing operator logs\n",
    "couch_df1 = pd.read_csv(\"POS_operator_logs_20171207-20171219.csv\")\n",
    "couch_df2 = pd.read_csv(\"POS_operator_logs_20190213-20190226.csv\")\n",
    "couch_df3 =pd.read_csv(\"POS_operator_logs_20190328-20190410.csv\")"
   ]
  },
  {
   "cell_type": "code",
   "execution_count": 6,
   "id": "558cd889-cb8c-4a4f-90a7-e63e580b69bc",
   "metadata": {
    "tags": []
   },
   "outputs": [
    {
     "data": {
      "text/html": [
       "<div>\n",
       "<style scoped>\n",
       "    .dataframe tbody tr th:only-of-type {\n",
       "        vertical-align: middle;\n",
       "    }\n",
       "\n",
       "    .dataframe tbody tr th {\n",
       "        vertical-align: top;\n",
       "    }\n",
       "\n",
       "    .dataframe thead th {\n",
       "        text-align: right;\n",
       "    }\n",
       "</style>\n",
       "<table border=\"1\" class=\"dataframe\">\n",
       "  <thead>\n",
       "    <tr style=\"text-align: right;\">\n",
       "      <th></th>\n",
       "      <th>WorkstationGroupID</th>\n",
       "      <th>WorkstationID</th>\n",
       "      <th>TranID</th>\n",
       "      <th>BeginDateTime</th>\n",
       "      <th>OperatorID</th>\n",
       "      <th>Items</th>\n",
       "    </tr>\n",
       "  </thead>\n",
       "  <tbody>\n",
       "    <tr>\n",
       "      <th>0</th>\n",
       "      <td>8</td>\n",
       "      <td>16</td>\n",
       "      <td>1712071060162</td>\n",
       "      <td>2017-12-07T06:04:01</td>\n",
       "      <td>266</td>\n",
       "      <td>OperatorSignOn</td>\n",
       "    </tr>\n",
       "    <tr>\n",
       "      <th>1</th>\n",
       "      <td>8</td>\n",
       "      <td>15</td>\n",
       "      <td>1712071060152</td>\n",
       "      <td>2017-12-07T06:04:15</td>\n",
       "      <td>265</td>\n",
       "      <td>OperatorSignOn</td>\n",
       "    </tr>\n",
       "    <tr>\n",
       "      <th>2</th>\n",
       "      <td>8</td>\n",
       "      <td>14</td>\n",
       "      <td>1712071060142</td>\n",
       "      <td>2017-12-07T06:05:36</td>\n",
       "      <td>264</td>\n",
       "      <td>OperatorSignOn</td>\n",
       "    </tr>\n",
       "    <tr>\n",
       "      <th>3</th>\n",
       "      <td>8</td>\n",
       "      <td>18</td>\n",
       "      <td>1712071060182</td>\n",
       "      <td>2017-12-07T06:05:41</td>\n",
       "      <td>268</td>\n",
       "      <td>OperatorSignOn</td>\n",
       "    </tr>\n",
       "    <tr>\n",
       "      <th>4</th>\n",
       "      <td>8</td>\n",
       "      <td>17</td>\n",
       "      <td>1712071060172</td>\n",
       "      <td>2017-12-07T06:05:56</td>\n",
       "      <td>267</td>\n",
       "      <td>OperatorSignOn</td>\n",
       "    </tr>\n",
       "  </tbody>\n",
       "</table>\n",
       "</div>"
      ],
      "text/plain": [
       "   WorkstationGroupID  WorkstationID         TranID        BeginDateTime  \\\n",
       "0                   8             16  1712071060162  2017-12-07T06:04:01   \n",
       "1                   8             15  1712071060152  2017-12-07T06:04:15   \n",
       "2                   8             14  1712071060142  2017-12-07T06:05:36   \n",
       "3                   8             18  1712071060182  2017-12-07T06:05:41   \n",
       "4                   8             17  1712071060172  2017-12-07T06:05:56   \n",
       "\n",
       "   OperatorID           Items  \n",
       "0         266  OperatorSignOn  \n",
       "1         265  OperatorSignOn  \n",
       "2         264  OperatorSignOn  \n",
       "3         268  OperatorSignOn  \n",
       "4         267  OperatorSignOn  "
      ]
     },
     "execution_count": 6,
     "metadata": {},
     "output_type": "execute_result"
    }
   ],
   "source": [
    "#cleaning the three files before laoding into Couchbase\n",
    "couch_df1.head()"
   ]
  },
  {
   "cell_type": "code",
   "execution_count": 7,
   "id": "23994730-8dd1-449e-bb03-32ce776ba771",
   "metadata": {
    "tags": []
   },
   "outputs": [],
   "source": [
    "couch_df1['BeginDateTime'] = pd.to_datetime(couch_df1['BeginDateTime']).dt.strftime('%Y-%m-%dT%H:%M:%S')"
   ]
  },
  {
   "cell_type": "code",
   "execution_count": 8,
   "id": "3636c157-3488-42e2-b52a-4869636adf20",
   "metadata": {
    "tags": []
   },
   "outputs": [
    {
     "data": {
      "text/html": [
       "<div>\n",
       "<style scoped>\n",
       "    .dataframe tbody tr th:only-of-type {\n",
       "        vertical-align: middle;\n",
       "    }\n",
       "\n",
       "    .dataframe tbody tr th {\n",
       "        vertical-align: top;\n",
       "    }\n",
       "\n",
       "    .dataframe thead th {\n",
       "        text-align: right;\n",
       "    }\n",
       "</style>\n",
       "<table border=\"1\" class=\"dataframe\">\n",
       "  <thead>\n",
       "    <tr style=\"text-align: right;\">\n",
       "      <th></th>\n",
       "      <th>WorkstationGroupID</th>\n",
       "      <th>WorkstationID</th>\n",
       "      <th>TranID</th>\n",
       "      <th>BeginDateTime</th>\n",
       "      <th>OperatorID</th>\n",
       "      <th>Items</th>\n",
       "    </tr>\n",
       "  </thead>\n",
       "  <tbody>\n",
       "    <tr>\n",
       "      <th>0</th>\n",
       "      <td>8</td>\n",
       "      <td>19</td>\n",
       "      <td>1902131060192</td>\n",
       "      <td>2019-02-13T05:37:55</td>\n",
       "      <td>269</td>\n",
       "      <td>OperatorSignOn</td>\n",
       "    </tr>\n",
       "    <tr>\n",
       "      <th>1</th>\n",
       "      <td>8</td>\n",
       "      <td>18</td>\n",
       "      <td>1902131060182</td>\n",
       "      <td>2019-02-13T05:37:55</td>\n",
       "      <td>268</td>\n",
       "      <td>OperatorSignOn</td>\n",
       "    </tr>\n",
       "    <tr>\n",
       "      <th>2</th>\n",
       "      <td>8</td>\n",
       "      <td>17</td>\n",
       "      <td>1902131060172</td>\n",
       "      <td>2019-02-13T05:38:43</td>\n",
       "      <td>267</td>\n",
       "      <td>OperatorSignOn</td>\n",
       "    </tr>\n",
       "    <tr>\n",
       "      <th>3</th>\n",
       "      <td>1</td>\n",
       "      <td>4</td>\n",
       "      <td>190213106042</td>\n",
       "      <td>2019-02-13T07:01:26</td>\n",
       "      <td>332</td>\n",
       "      <td>OperatorSignOn</td>\n",
       "    </tr>\n",
       "    <tr>\n",
       "      <th>4</th>\n",
       "      <td>1</td>\n",
       "      <td>7</td>\n",
       "      <td>190213106072</td>\n",
       "      <td>2019-02-13T07:01:57</td>\n",
       "      <td>10</td>\n",
       "      <td>OperatorSignOn</td>\n",
       "    </tr>\n",
       "  </tbody>\n",
       "</table>\n",
       "</div>"
      ],
      "text/plain": [
       "   WorkstationGroupID  WorkstationID         TranID        BeginDateTime  \\\n",
       "0                   8             19  1902131060192  2019-02-13T05:37:55   \n",
       "1                   8             18  1902131060182  2019-02-13T05:37:55   \n",
       "2                   8             17  1902131060172  2019-02-13T05:38:43   \n",
       "3                   1              4   190213106042  2019-02-13T07:01:26   \n",
       "4                   1              7   190213106072  2019-02-13T07:01:57   \n",
       "\n",
       "   OperatorID           Items  \n",
       "0         269  OperatorSignOn  \n",
       "1         268  OperatorSignOn  \n",
       "2         267  OperatorSignOn  \n",
       "3         332  OperatorSignOn  \n",
       "4          10  OperatorSignOn  "
      ]
     },
     "execution_count": 8,
     "metadata": {},
     "output_type": "execute_result"
    }
   ],
   "source": [
    "couch_df2.head()"
   ]
  },
  {
   "cell_type": "code",
   "execution_count": 9,
   "id": "cd3e0bd1-afd2-42de-a131-8dff4129eb77",
   "metadata": {
    "tags": []
   },
   "outputs": [],
   "source": [
    "couch_df2['BeginDateTime'] = pd.to_datetime(couch_df2['BeginDateTime']).dt.strftime('%Y-%m-%dT%H:%M:%S')\n"
   ]
  },
  {
   "cell_type": "code",
   "execution_count": 10,
   "id": "7e8ded49-76c0-4fa4-b38d-23fefb063a30",
   "metadata": {
    "tags": []
   },
   "outputs": [
    {
     "data": {
      "text/html": [
       "<div>\n",
       "<style scoped>\n",
       "    .dataframe tbody tr th:only-of-type {\n",
       "        vertical-align: middle;\n",
       "    }\n",
       "\n",
       "    .dataframe tbody tr th {\n",
       "        vertical-align: top;\n",
       "    }\n",
       "\n",
       "    .dataframe thead th {\n",
       "        text-align: right;\n",
       "    }\n",
       "</style>\n",
       "<table border=\"1\" class=\"dataframe\">\n",
       "  <thead>\n",
       "    <tr style=\"text-align: right;\">\n",
       "      <th></th>\n",
       "      <th>WorkstationGroupID</th>\n",
       "      <th>WorkstationID</th>\n",
       "      <th>TranID</th>\n",
       "      <th>BeginDateTime</th>\n",
       "      <th>OperatorID</th>\n",
       "      <th>Items</th>\n",
       "    </tr>\n",
       "  </thead>\n",
       "  <tbody>\n",
       "    <tr>\n",
       "      <th>0</th>\n",
       "      <td>8</td>\n",
       "      <td>19</td>\n",
       "      <td>1903281060192</td>\n",
       "      <td>2019-03-28T06:08:13</td>\n",
       "      <td>269</td>\n",
       "      <td>OperatorSignOn</td>\n",
       "    </tr>\n",
       "    <tr>\n",
       "      <th>1</th>\n",
       "      <td>8</td>\n",
       "      <td>18</td>\n",
       "      <td>1903281060182</td>\n",
       "      <td>2019-03-28T06:09:13</td>\n",
       "      <td>268</td>\n",
       "      <td>OperatorSignOn</td>\n",
       "    </tr>\n",
       "    <tr>\n",
       "      <th>2</th>\n",
       "      <td>8</td>\n",
       "      <td>17</td>\n",
       "      <td>1903281060172</td>\n",
       "      <td>2019-03-28T06:08:33</td>\n",
       "      <td>267</td>\n",
       "      <td>OperatorSignOn</td>\n",
       "    </tr>\n",
       "    <tr>\n",
       "      <th>3</th>\n",
       "      <td>1</td>\n",
       "      <td>4</td>\n",
       "      <td>190328106042</td>\n",
       "      <td>2019-03-28T07:04:45</td>\n",
       "      <td>104</td>\n",
       "      <td>OperatorSignOn</td>\n",
       "    </tr>\n",
       "    <tr>\n",
       "      <th>4</th>\n",
       "      <td>1</td>\n",
       "      <td>6</td>\n",
       "      <td>190328106062</td>\n",
       "      <td>2019-03-28T07:18:38</td>\n",
       "      <td>125</td>\n",
       "      <td>OperatorSignOn</td>\n",
       "    </tr>\n",
       "  </tbody>\n",
       "</table>\n",
       "</div>"
      ],
      "text/plain": [
       "   WorkstationGroupID  WorkstationID         TranID        BeginDateTime  \\\n",
       "0                   8             19  1903281060192  2019-03-28T06:08:13   \n",
       "1                   8             18  1903281060182  2019-03-28T06:09:13   \n",
       "2                   8             17  1903281060172  2019-03-28T06:08:33   \n",
       "3                   1              4   190328106042  2019-03-28T07:04:45   \n",
       "4                   1              6   190328106062  2019-03-28T07:18:38   \n",
       "\n",
       "   OperatorID           Items  \n",
       "0         269  OperatorSignOn  \n",
       "1         268  OperatorSignOn  \n",
       "2         267  OperatorSignOn  \n",
       "3         104  OperatorSignOn  \n",
       "4         125  OperatorSignOn  "
      ]
     },
     "execution_count": 10,
     "metadata": {},
     "output_type": "execute_result"
    }
   ],
   "source": [
    "couch_df3.head()"
   ]
  },
  {
   "cell_type": "code",
   "execution_count": 11,
   "id": "18428c28-4d00-4d93-89fd-2dca81ab7faf",
   "metadata": {
    "tags": []
   },
   "outputs": [],
   "source": [
    "couch_df3['BeginDateTime'] = pd.to_datetime(couch_df3['BeginDateTime']).dt.strftime('%Y-%m-%dT%H:%M:%S')\n"
   ]
  },
  {
   "cell_type": "code",
   "execution_count": 12,
   "id": "1b9e8774-c8e0-4fef-be5e-35bfedec42ee",
   "metadata": {
    "tags": []
   },
   "outputs": [
    {
     "data": {
      "text/plain": [
       "4708"
      ]
     },
     "execution_count": 12,
     "metadata": {},
     "output_type": "execute_result"
    }
   ],
   "source": [
    "len(couch_df1)"
   ]
  },
  {
   "cell_type": "code",
   "execution_count": 13,
   "id": "618b3d37-44f1-4ea6-9a96-00a60eb8ded9",
   "metadata": {
    "tags": []
   },
   "outputs": [
    {
     "data": {
      "text/plain": [
       "5218"
      ]
     },
     "execution_count": 13,
     "metadata": {},
     "output_type": "execute_result"
    }
   ],
   "source": [
    "len(couch_df2)"
   ]
  },
  {
   "cell_type": "code",
   "execution_count": 14,
   "id": "b54065d4-b773-456b-b593-2b8271cccbf9",
   "metadata": {
    "tags": []
   },
   "outputs": [
    {
     "data": {
      "text/plain": [
       "4178"
      ]
     },
     "execution_count": 14,
     "metadata": {},
     "output_type": "execute_result"
    }
   ],
   "source": [
    "len(couch_df3)"
   ]
  },
  {
   "cell_type": "code",
   "execution_count": 15,
   "id": "1224fa81-4834-451d-a4fa-6779ed1a44eb",
   "metadata": {
    "tags": []
   },
   "outputs": [],
   "source": [
    "#converting to JSON format and adding it to couchbase to make it as one of the source for the data for our project\n",
    "json_data1 = couch_df1.to_json(orient='records')\n",
    "json_data2 = couch_df2.to_json(orient='records')\n",
    "json_data3 = couch_df3.to_json(orient='records')"
   ]
  },
  {
   "cell_type": "code",
   "execution_count": 16,
   "id": "f1d0c224-4f0c-4a41-986a-1d1de4b11f4e",
   "metadata": {
    "tags": []
   },
   "outputs": [],
   "source": [
    "# Open a Couchbase bucket-- basket is the database in Couchbase\n",
    "bucket = cluster.bucket('Source_DB')\n",
    "collection = bucket.default_collection()"
   ]
  },
  {
   "cell_type": "code",
   "execution_count": 17,
   "id": "b5f38a12-bee2-4b87-8625-704120567807",
   "metadata": {
    "tags": []
   },
   "outputs": [
    {
     "data": {
      "text/plain": [
       "MutationResult:result:{err=0, err_string=Undefined error: 0, value={'cas': 1700706304033292288, 'key': '3333', 'mutation_token': <pycbc_core.mutation_token object at 0x124410af0>}}"
      ]
     },
     "execution_count": 17,
     "metadata": {},
     "output_type": "execute_result"
    }
   ],
   "source": [
    "bucket = cluster.bucket('Source_DB')\n",
    "collection = bucket.default_collection()\n",
    "\n",
    "document_id = '1111'  # Choose a unique ID for our document\n",
    "collection.upsert(document_id, json_data1)\n",
    "\n",
    "document_id = '2222'  # Choose a unique ID for 2nd document\n",
    "collection.upsert(document_id, json_data2)\n",
    "\n",
    "document_id = '3333'  # Choose a unique ID for 3rd document\n",
    "collection.upsert(document_id, json_data3)"
   ]
  },
  {
   "cell_type": "code",
   "execution_count": 18,
   "id": "d310fbbc-3a72-417f-b915-f52890f72597",
   "metadata": {
    "tags": []
   },
   "outputs": [],
   "source": [
    "from couchbase.cluster import QueryOptions\n",
    "\n",
    "# Defining a function to count documents in the collection\n",
    "def count_documents(collection_name):\n",
    "    query = f\"SELECT COUNT(*) AS count FROM `{collection_name}`;\"\n",
    "    result = cluster.query(query)\n",
    "    for row in result:\n",
    "        return row['count']"
   ]
  },
  {
   "cell_type": "code",
   "execution_count": 19,
   "id": "06f833aa-46ff-484a-9b6b-295768347f0c",
   "metadata": {
    "tags": []
   },
   "outputs": [
    {
     "name": "stdout",
     "output_type": "stream",
     "text": [
      "Total documents in collection: 3\n"
     ]
    }
   ],
   "source": [
    "# Replace 'your_collection_name' with the actual name of your Couchbase collection\n",
    "print(\"Total documents in collection:\", count_documents('Source_DB'))"
   ]
  },
  {
   "cell_type": "code",
   "execution_count": 20,
   "id": "b4cc236e-1626-407e-a07b-e76c2ba3d9c4",
   "metadata": {
    "tags": []
   },
   "outputs": [],
   "source": [
    "# Retrieve the document\n",
    "document_id = '1111'\n",
    "result = collection.get(document_id)\n",
    "\n",
    "# The document's content is in result.value\n",
    "final_json_data1 = result.value\n",
    "\n",
    "# Assuming the JSON data is a list of records, convert it to DataFrame\n",
    "df1 = pd.read_json(final_json_data1, orient='records')\n"
   ]
  },
  {
   "cell_type": "code",
   "execution_count": 21,
   "id": "d14e5326-459d-4934-9cda-106454ee0b75",
   "metadata": {
    "tags": []
   },
   "outputs": [],
   "source": [
    "# Retrieve the document\n",
    "document_id = '2222'\n",
    "result = collection.get(document_id)\n",
    "\n",
    "# The document's content is in result.value\n",
    "final_json_data2 = result.value\n",
    "\n",
    "# Assuming the JSON data is a list of records, convert it to DataFrame\n",
    "df2 = pd.read_json(final_json_data2, orient='records')\n"
   ]
  },
  {
   "cell_type": "code",
   "execution_count": 22,
   "id": "c34d6dd4-f845-4a4a-adcc-26316124d957",
   "metadata": {
    "tags": []
   },
   "outputs": [],
   "source": [
    "# Retrieve the document\n",
    "document_id = '3333'\n",
    "result = collection.get(document_id)\n",
    "\n",
    "# The document's content is in result.value\n",
    "final_json_data3 = result.value\n",
    "\n",
    "# Assuming the JSON data is a list of records, convert it to DataFrame\n",
    "df3 = pd.read_json(final_json_data3, orient='records')\n"
   ]
  },
  {
   "cell_type": "code",
   "execution_count": 23,
   "id": "fcffb29b-2a77-4b8b-8961-cfadacbe98ff",
   "metadata": {
    "tags": []
   },
   "outputs": [
    {
     "data": {
      "text/html": [
       "<div>\n",
       "<style scoped>\n",
       "    .dataframe tbody tr th:only-of-type {\n",
       "        vertical-align: middle;\n",
       "    }\n",
       "\n",
       "    .dataframe tbody tr th {\n",
       "        vertical-align: top;\n",
       "    }\n",
       "\n",
       "    .dataframe thead th {\n",
       "        text-align: right;\n",
       "    }\n",
       "</style>\n",
       "<table border=\"1\" class=\"dataframe\">\n",
       "  <thead>\n",
       "    <tr style=\"text-align: right;\">\n",
       "      <th></th>\n",
       "      <th>WorkstationGroupID</th>\n",
       "      <th>WorkstationID</th>\n",
       "      <th>TranID</th>\n",
       "      <th>BeginDateTime</th>\n",
       "      <th>OperatorID</th>\n",
       "      <th>Items</th>\n",
       "    </tr>\n",
       "  </thead>\n",
       "  <tbody>\n",
       "    <tr>\n",
       "      <th>0</th>\n",
       "      <td>8</td>\n",
       "      <td>16</td>\n",
       "      <td>1712071060162</td>\n",
       "      <td>2017-12-07T06:04:01</td>\n",
       "      <td>266</td>\n",
       "      <td>OperatorSignOn</td>\n",
       "    </tr>\n",
       "    <tr>\n",
       "      <th>1</th>\n",
       "      <td>8</td>\n",
       "      <td>15</td>\n",
       "      <td>1712071060152</td>\n",
       "      <td>2017-12-07T06:04:15</td>\n",
       "      <td>265</td>\n",
       "      <td>OperatorSignOn</td>\n",
       "    </tr>\n",
       "    <tr>\n",
       "      <th>2</th>\n",
       "      <td>8</td>\n",
       "      <td>14</td>\n",
       "      <td>1712071060142</td>\n",
       "      <td>2017-12-07T06:05:36</td>\n",
       "      <td>264</td>\n",
       "      <td>OperatorSignOn</td>\n",
       "    </tr>\n",
       "    <tr>\n",
       "      <th>3</th>\n",
       "      <td>8</td>\n",
       "      <td>18</td>\n",
       "      <td>1712071060182</td>\n",
       "      <td>2017-12-07T06:05:41</td>\n",
       "      <td>268</td>\n",
       "      <td>OperatorSignOn</td>\n",
       "    </tr>\n",
       "    <tr>\n",
       "      <th>4</th>\n",
       "      <td>8</td>\n",
       "      <td>17</td>\n",
       "      <td>1712071060172</td>\n",
       "      <td>2017-12-07T06:05:56</td>\n",
       "      <td>267</td>\n",
       "      <td>OperatorSignOn</td>\n",
       "    </tr>\n",
       "  </tbody>\n",
       "</table>\n",
       "</div>"
      ],
      "text/plain": [
       "   WorkstationGroupID  WorkstationID         TranID        BeginDateTime  \\\n",
       "0                   8             16  1712071060162  2017-12-07T06:04:01   \n",
       "1                   8             15  1712071060152  2017-12-07T06:04:15   \n",
       "2                   8             14  1712071060142  2017-12-07T06:05:36   \n",
       "3                   8             18  1712071060182  2017-12-07T06:05:41   \n",
       "4                   8             17  1712071060172  2017-12-07T06:05:56   \n",
       "\n",
       "   OperatorID           Items  \n",
       "0         266  OperatorSignOn  \n",
       "1         265  OperatorSignOn  \n",
       "2         264  OperatorSignOn  \n",
       "3         268  OperatorSignOn  \n",
       "4         267  OperatorSignOn  "
      ]
     },
     "execution_count": 23,
     "metadata": {},
     "output_type": "execute_result"
    }
   ],
   "source": [
    "df1.head()"
   ]
  },
  {
   "cell_type": "code",
   "execution_count": 24,
   "id": "5a331986-7872-4efe-a3ed-36d96cb52b3e",
   "metadata": {
    "tags": []
   },
   "outputs": [],
   "source": [
    "# Convert BeginDateTime to pandas datetime type- for dataframe1\n",
    "df1['BeginDateTime'] = pd.to_datetime(df1['BeginDateTime'])"
   ]
  },
  {
   "cell_type": "code",
   "execution_count": 50,
   "id": "8ea0a5d1-45cc-48fe-ae14-002f70e4d636",
   "metadata": {
    "tags": []
   },
   "outputs": [],
   "source": [
    "# Convert BeginDateTime to pandas datetime type- for dataframe2\n",
    "df2['BeginDateTime'] = pd.to_datetime(df2['BeginDateTime'])"
   ]
  },
  {
   "cell_type": "code",
   "execution_count": 51,
   "id": "ebfe1bb9-6645-4842-b06f-c730307d2edc",
   "metadata": {
    "tags": []
   },
   "outputs": [],
   "source": [
    "# Convert BeginDateTime to pandas datetime type- for dataframe3\n",
    "df3['BeginDateTime'] = pd.to_datetime(df3['BeginDateTime'])"
   ]
  },
  {
   "cell_type": "code",
   "execution_count": 52,
   "id": "fb293744-705a-47bb-8c4a-0c5543782b28",
   "metadata": {
    "tags": []
   },
   "outputs": [
    {
     "data": {
      "text/html": [
       "<div>\n",
       "<style scoped>\n",
       "    .dataframe tbody tr th:only-of-type {\n",
       "        vertical-align: middle;\n",
       "    }\n",
       "\n",
       "    .dataframe tbody tr th {\n",
       "        vertical-align: top;\n",
       "    }\n",
       "\n",
       "    .dataframe thead th {\n",
       "        text-align: right;\n",
       "    }\n",
       "</style>\n",
       "<table border=\"1\" class=\"dataframe\">\n",
       "  <thead>\n",
       "    <tr style=\"text-align: right;\">\n",
       "      <th></th>\n",
       "      <th>WorkstationGroupID</th>\n",
       "      <th>WorkstationID</th>\n",
       "      <th>TranID</th>\n",
       "      <th>BeginDateTime</th>\n",
       "      <th>OperatorID</th>\n",
       "      <th>Items</th>\n",
       "    </tr>\n",
       "  </thead>\n",
       "  <tbody>\n",
       "    <tr>\n",
       "      <th>0</th>\n",
       "      <td>8</td>\n",
       "      <td>16</td>\n",
       "      <td>1712071060162</td>\n",
       "      <td>2017-12-07 06:04:01</td>\n",
       "      <td>266</td>\n",
       "      <td>OperatorSignOn</td>\n",
       "    </tr>\n",
       "    <tr>\n",
       "      <th>1</th>\n",
       "      <td>8</td>\n",
       "      <td>15</td>\n",
       "      <td>1712071060152</td>\n",
       "      <td>2017-12-07 06:04:15</td>\n",
       "      <td>265</td>\n",
       "      <td>OperatorSignOn</td>\n",
       "    </tr>\n",
       "    <tr>\n",
       "      <th>2</th>\n",
       "      <td>8</td>\n",
       "      <td>14</td>\n",
       "      <td>1712071060142</td>\n",
       "      <td>2017-12-07 06:05:36</td>\n",
       "      <td>264</td>\n",
       "      <td>OperatorSignOn</td>\n",
       "    </tr>\n",
       "    <tr>\n",
       "      <th>3</th>\n",
       "      <td>8</td>\n",
       "      <td>18</td>\n",
       "      <td>1712071060182</td>\n",
       "      <td>2017-12-07 06:05:41</td>\n",
       "      <td>268</td>\n",
       "      <td>OperatorSignOn</td>\n",
       "    </tr>\n",
       "    <tr>\n",
       "      <th>4</th>\n",
       "      <td>8</td>\n",
       "      <td>17</td>\n",
       "      <td>1712071060172</td>\n",
       "      <td>2017-12-07 06:05:56</td>\n",
       "      <td>267</td>\n",
       "      <td>OperatorSignOn</td>\n",
       "    </tr>\n",
       "  </tbody>\n",
       "</table>\n",
       "</div>"
      ],
      "text/plain": [
       "   WorkstationGroupID  WorkstationID         TranID       BeginDateTime  \\\n",
       "0                   8             16  1712071060162 2017-12-07 06:04:01   \n",
       "1                   8             15  1712071060152 2017-12-07 06:04:15   \n",
       "2                   8             14  1712071060142 2017-12-07 06:05:36   \n",
       "3                   8             18  1712071060182 2017-12-07 06:05:41   \n",
       "4                   8             17  1712071060172 2017-12-07 06:05:56   \n",
       "\n",
       "   OperatorID           Items  \n",
       "0         266  OperatorSignOn  \n",
       "1         265  OperatorSignOn  \n",
       "2         264  OperatorSignOn  \n",
       "3         268  OperatorSignOn  \n",
       "4         267  OperatorSignOn  "
      ]
     },
     "execution_count": 52,
     "metadata": {},
     "output_type": "execute_result"
    }
   ],
   "source": [
    "df1.head()"
   ]
  },
  {
   "cell_type": "code",
   "execution_count": 53,
   "id": "4d258ccc-b18b-4c18-a3c7-35fa8a4f05cd",
   "metadata": {
    "tags": []
   },
   "outputs": [
    {
     "name": "stdout",
     "output_type": "stream",
     "text": [
      "datetime64[ns]\n"
     ]
    }
   ],
   "source": [
    "print(df1['BeginDateTime'].dtypes)"
   ]
  },
  {
   "cell_type": "code",
   "execution_count": 54,
   "id": "1170ee60-6a31-4b20-9b1d-5acdf4fb22c0",
   "metadata": {
    "tags": []
   },
   "outputs": [
    {
     "name": "stdout",
     "output_type": "stream",
     "text": [
      "Null Values:\n",
      " WorkstationGroupID    0\n",
      "WorkstationID         0\n",
      "TranID                0\n",
      "BeginDateTime         0\n",
      "OperatorID            0\n",
      "Items                 0\n",
      "dtype: int64\n"
     ]
    }
   ],
   "source": [
    "# Check for null values-dataframe 1\n",
    "null_values = df1.isnull().sum()\n",
    "print(\"Null Values:\\n\", null_values)"
   ]
  },
  {
   "cell_type": "code",
   "execution_count": 55,
   "id": "3d2367a3-9851-4c0b-b270-268a94c67ddd",
   "metadata": {
    "tags": []
   },
   "outputs": [
    {
     "name": "stdout",
     "output_type": "stream",
     "text": [
      "\n",
      "Duplicate Rows:\n",
      " Empty DataFrame\n",
      "Columns: [WorkstationGroupID, WorkstationID, TranID, BeginDateTime, OperatorID, Items]\n",
      "Index: []\n"
     ]
    }
   ],
   "source": [
    "# Check for duplicate rows\n",
    "duplicate_rows = df1[df1.duplicated()]\n",
    "\n",
    "print(\"\\nDuplicate Rows:\\n\", duplicate_rows)"
   ]
  },
  {
   "cell_type": "code",
   "execution_count": 56,
   "id": "bde58e82-d25f-426a-8147-590b32b57e75",
   "metadata": {
    "tags": []
   },
   "outputs": [
    {
     "name": "stdout",
     "output_type": "stream",
     "text": [
      "TranID is unique across the DataFrame.\n"
     ]
    }
   ],
   "source": [
    "# Checking if there are any duplicated TranID values in the DataFrame\n",
    "duplicated_tranids = df1[df1['TranID'].duplicated(keep=False)]\n",
    "\n",
    "# Printing the duplicated TranIDs if any exist\n",
    "if not duplicated_tranids.empty:\n",
    "    print(\"Duplicated TranIDs found:\", duplicated_tranids['TranID'].unique())\n",
    "else:\n",
    "    print(\"TranID is unique across the DataFrame.\")"
   ]
  },
  {
   "cell_type": "code",
   "execution_count": 57,
   "id": "ffd4a803-b220-4b3c-822a-e6344cd276aa",
   "metadata": {
    "tags": []
   },
   "outputs": [
    {
     "name": "stdout",
     "output_type": "stream",
     "text": [
      "Null Values:\n",
      " WorkstationGroupID    0\n",
      "WorkstationID         0\n",
      "TranID                0\n",
      "BeginDateTime         0\n",
      "OperatorID            0\n",
      "Items                 0\n",
      "dtype: int64\n"
     ]
    }
   ],
   "source": [
    "# Checking for null values\n",
    "null_values = df2.isnull().sum()\n",
    "print(\"Null Values:\\n\", null_values)"
   ]
  },
  {
   "cell_type": "code",
   "execution_count": 58,
   "id": "36719f26-27cf-46d5-adfa-ecd09042b4b4",
   "metadata": {
    "tags": []
   },
   "outputs": [
    {
     "name": "stdout",
     "output_type": "stream",
     "text": [
      "datetime64[ns]\n"
     ]
    }
   ],
   "source": [
    "print(df2['BeginDateTime'].dtypes)"
   ]
  },
  {
   "cell_type": "code",
   "execution_count": 59,
   "id": "838f3fe7-8079-496f-8e3f-3a688588acbb",
   "metadata": {
    "tags": []
   },
   "outputs": [
    {
     "name": "stdout",
     "output_type": "stream",
     "text": [
      "\n",
      "Duplicate Rows:\n",
      " Empty DataFrame\n",
      "Columns: [WorkstationGroupID, WorkstationID, TranID, BeginDateTime, OperatorID, Items]\n",
      "Index: []\n"
     ]
    }
   ],
   "source": [
    "# Checking for duplicate rows\n",
    "duplicate_rows = df2[df2.duplicated()]\n",
    "\n",
    "print(\"\\nDuplicate Rows:\\n\", duplicate_rows)"
   ]
  },
  {
   "cell_type": "code",
   "execution_count": 60,
   "id": "487bb5db-38bc-44f4-bc35-c22af3641c33",
   "metadata": {
    "tags": []
   },
   "outputs": [
    {
     "name": "stdout",
     "output_type": "stream",
     "text": [
      "Duplicated TranIDs found: [  1902151060114   1902151060116    190218106084   1902211060216\n",
      "   1902221060114   1902251060212 190226106022155]\n"
     ]
    }
   ],
   "source": [
    "# Checking if there are any duplicated TranID values in the DataFrame\n",
    "duplicated_tranids = df2[df2['TranID'].duplicated(keep=False)]\n",
    "\n",
    "# Printing the duplicated TranIDs if any exist\n",
    "if not duplicated_tranids.empty:\n",
    "    print(\"Duplicated TranIDs found:\", duplicated_tranids['TranID'].unique())\n",
    "else:\n",
    "    print(\"TranID is unique across the DataFrame.\")"
   ]
  },
  {
   "cell_type": "code",
   "execution_count": 61,
   "id": "f1b2c67c-d853-4941-abb0-79028b0b8f0e",
   "metadata": {
    "tags": []
   },
   "outputs": [
    {
     "name": "stdout",
     "output_type": "stream",
     "text": [
      "      WorkstationGroupID  WorkstationID           TranID       BeginDateTime  \\\n",
      "723                    1              1    1902151060114 2019-02-15 00:29:38   \n",
      "742                    1              1    1902151060116 2019-02-15 03:39:08   \n",
      "772                    1             11    1902151060114 2019-02-15 04:07:16   \n",
      "773                    1             11    1902151060116 2019-02-15 04:08:29   \n",
      "1604                   1              8     190218106084 2019-02-18 08:47:15   \n",
      "1832                   1              8     190218106084 2019-02-18 19:21:06   \n",
      "2874                   1              2    1902211060216 2019-02-21 09:13:41   \n",
      "3145                   1             21    1902211060216 2019-02-21 16:04:16   \n",
      "3465                   1              1    1902221060114 2019-02-22 11:53:12   \n",
      "3489                   1             11    1902221060114 2019-02-22 12:28:28   \n",
      "4309                   1             21    1902251060212 2019-02-25 08:02:02   \n",
      "4495                   1              2    1902251060212 2019-02-25 13:19:52   \n",
      "5038                   1             22  190226106022155 2019-02-26 14:45:32   \n",
      "5133                   1             22  190226106022155 2019-02-26 19:07:44   \n",
      "\n",
      "      OperatorID            Items  \n",
      "723           10  OperatorSignOff  \n",
      "742           10   OperatorSignOn  \n",
      "772           10   OperatorSignOn  \n",
      "773           10  OperatorSignOff  \n",
      "1604          10     OperatorLock  \n",
      "1832          10   OperatorSignOn  \n",
      "2874         328     OperatorLock  \n",
      "3145         303   OperatorSignOn  \n",
      "3465         106  OperatorSignOff  \n",
      "3489         328   OperatorSignOn  \n",
      "4309         303   OperatorSignOn  \n",
      "4495         323  OperatorSignOff  \n",
      "5038         119     OperatorLock  \n",
      "5133         145   OperatorSignOn  \n"
     ]
    }
   ],
   "source": [
    "# Fetching all rows with duplicated TranID values\n",
    "duplicated_rows = df2[df2['TranID'].duplicated(keep=False)]\n",
    "\n",
    "# Printing the duplicated rows to verify\n",
    "print(duplicated_rows)"
   ]
  },
  {
   "cell_type": "code",
   "execution_count": 62,
   "id": "2c865325-ebbf-4572-9a03-8244889c88cf",
   "metadata": {
    "tags": []
   },
   "outputs": [
    {
     "name": "stdout",
     "output_type": "stream",
     "text": [
      "Empty DataFrame\n",
      "Columns: [WorkstationGroupID, WorkstationID, TranID, BeginDateTime, OperatorID, Items]\n",
      "Index: []\n"
     ]
    }
   ],
   "source": [
    "# Finding duplicates based on 'TranID' and 'BeginDateTime'\n",
    "duplicated_rows = df2[df2.duplicated(subset=['TranID', 'BeginDateTime'], keep=False)]\n",
    "\n",
    "# Printing the duplicated rows\n",
    "print(duplicated_rows)"
   ]
  },
  {
   "cell_type": "code",
   "execution_count": 63,
   "id": "a9f44715-4b3f-4e18-a98a-ed80b7e69629",
   "metadata": {
    "tags": []
   },
   "outputs": [
    {
     "name": "stdout",
     "output_type": "stream",
     "text": [
      "datetime64[ns]\n"
     ]
    }
   ],
   "source": [
    "print(df3['BeginDateTime'].dtypes)"
   ]
  },
  {
   "cell_type": "code",
   "execution_count": 64,
   "id": "317e1303-5602-478c-a7b6-984b050275bd",
   "metadata": {
    "tags": []
   },
   "outputs": [
    {
     "name": "stdout",
     "output_type": "stream",
     "text": [
      "Null Values:\n",
      " WorkstationGroupID    0\n",
      "WorkstationID         0\n",
      "TranID                0\n",
      "BeginDateTime         0\n",
      "OperatorID            0\n",
      "Items                 0\n",
      "dtype: int64\n"
     ]
    }
   ],
   "source": [
    "# Checking for null values\n",
    "null_values = df3.isnull().sum()\n",
    "print(\"Null Values:\\n\", null_values)"
   ]
  },
  {
   "cell_type": "code",
   "execution_count": 65,
   "id": "fb754477-18f2-4b2a-a249-b202849bbfa6",
   "metadata": {
    "tags": []
   },
   "outputs": [
    {
     "name": "stdout",
     "output_type": "stream",
     "text": [
      "\n",
      "Duplicate Rows:\n",
      " Empty DataFrame\n",
      "Columns: [WorkstationGroupID, WorkstationID, TranID, BeginDateTime, OperatorID, Items]\n",
      "Index: []\n"
     ]
    }
   ],
   "source": [
    "# Checking for duplicate rows\n",
    "duplicate_rows = df3[df3.duplicated()]\n",
    "\n",
    "print(\"\\nDuplicate Rows:\\n\", duplicate_rows)"
   ]
  },
  {
   "cell_type": "code",
   "execution_count": 66,
   "id": "fd244b8f-7bd7-4e96-8747-e4201e6b5f42",
   "metadata": {
    "tags": []
   },
   "outputs": [
    {
     "name": "stdout",
     "output_type": "stream",
     "text": [
      "Duplicated TranIDs found: [ 1903291060112  1903291060114  1903301060192 19033010602310\n",
      "  1903301060119 19033010601110 19033010602312 19033010602314\n",
      "  1903311060132 19033110602247 19033110602257 19033110602259\n",
      "  1904011060228  1904011060138  1904011060112  1904011060114\n",
      "  1904041060238  1904061060124 19040810606200  1904091060172\n",
      "  1904101060182  1904101060172  1904101060122]\n"
     ]
    }
   ],
   "source": [
    "# Checking if there are any duplicated TranID values in the DataFrame\n",
    "duplicated_tranids = df3[df3['TranID'].duplicated(keep=False)]\n",
    "\n",
    "# Printing the duplicated TranIDs if any exist\n",
    "if not duplicated_tranids.empty:\n",
    "    print(\"Duplicated TranIDs found:\", duplicated_tranids['TranID'].unique())\n",
    "else:\n",
    "    print(\"TranID is unique across the DataFrame.\")"
   ]
  },
  {
   "cell_type": "code",
   "execution_count": 67,
   "id": "14d52843-3574-40f2-a3fd-2a36d51c3047",
   "metadata": {
    "tags": []
   },
   "outputs": [
    {
     "name": "stdout",
     "output_type": "stream",
     "text": [
      "Empty DataFrame\n",
      "Columns: [WorkstationGroupID, WorkstationID, TranID, BeginDateTime, OperatorID, Items]\n",
      "Index: []\n"
     ]
    }
   ],
   "source": [
    "# Finding duplicates based on 'TranID' and 'BeginDateTime'\n",
    "duplicated_rows = df3[df3.duplicated(subset=['TranID', 'BeginDateTime'], keep=False)]\n",
    "\n",
    "# Print the duplicated rows\n",
    "print(duplicated_rows)"
   ]
  },
  {
   "cell_type": "code",
   "execution_count": 68,
   "id": "8d6ac9b1-a1c0-4bc6-b52a-746895c09cbb",
   "metadata": {
    "tags": []
   },
   "outputs": [],
   "source": [
    "#checked operators data and compared with tansaction tranid. We cannot drop tranid duplicaties\n",
    "#decided to create hash id with three columns combined to make it unique\n",
    "#combining all three operator logs CSV dataframes into one.\n",
    "df_operation_logs = pd.concat([df1, df2, df3], ignore_index=True)"
   ]
  },
  {
   "cell_type": "code",
   "execution_count": 69,
   "id": "d7288e59-4a00-4b4e-b83c-a1d14498e756",
   "metadata": {
    "tags": []
   },
   "outputs": [
    {
     "data": {
      "text/plain": [
       "14104"
      ]
     },
     "execution_count": 69,
     "metadata": {},
     "output_type": "execute_result"
    }
   ],
   "source": [
    "len(df_operation_logs)"
   ]
  },
  {
   "cell_type": "code",
   "execution_count": 70,
   "id": "176ed690-cd0e-4ad6-9f18-a449208091a7",
   "metadata": {
    "tags": []
   },
   "outputs": [
    {
     "name": "stdout",
     "output_type": "stream",
     "text": [
      "   WorkstationGroupID  WorkstationID         TranID       BeginDateTime  \\\n",
      "0                   8             16  1712071060162 2017-12-07 06:04:01   \n",
      "1                   8             15  1712071060152 2017-12-07 06:04:15   \n",
      "2                   8             14  1712071060142 2017-12-07 06:05:36   \n",
      "3                   8             18  1712071060182 2017-12-07 06:05:41   \n",
      "4                   8             17  1712071060172 2017-12-07 06:05:56   \n",
      "\n",
      "   OperatorID           Items       TransactionKey  \n",
      "0         266  OperatorSignOn  2839552832848191383  \n",
      "1         265  OperatorSignOn   532605016568915891  \n",
      "2         264  OperatorSignOn  2656164866338562193  \n",
      "3         268  OperatorSignOn  6276429812263985033  \n",
      "4         267  OperatorSignOn  2609975390469231624  \n"
     ]
    }
   ],
   "source": [
    "# Generate a unique positive transaction key based on the absolute value of hash of relevant columns\n",
    "df_operation_logs['TransactionKey'] = df_operation_logs.apply(lambda row: abs(hash((row['TranID'], row['BeginDateTime'], row['OperatorID']))), axis=1)\n",
    "\n",
    "# Display the updated dataframe\n",
    "print(df_operation_logs.head())"
   ]
  },
  {
   "cell_type": "code",
   "execution_count": 71,
   "id": "432eca5c-c940-4cc3-8c81-595a5fd3ca73",
   "metadata": {},
   "outputs": [],
   "source": [
    "#Used apache nifi ETL process flow to extract three transaction log files from google drive \n",
    "#loaded into ETLoutput folder in local server.\n",
    "#the process flow is automated and all the files added to google drive folder will extracted and loaded in local folder for further process"
   ]
  },
  {
   "cell_type": "code",
   "execution_count": 72,
   "id": "f1ff7f3f-0631-40a5-b7ef-a8fb67b6d525",
   "metadata": {
    "tags": []
   },
   "outputs": [],
   "source": [
    "#importing transactions logs\n",
    "df4 = pd.read_csv(\"/users/priyasuresh/database/project/ETLoutput/POS_transactions_20171207-20171219.csv\")\n",
    "df5 = pd.read_csv(\"/users/priyasuresh/database/project/ETLoutput/POS_transactions_20190213-20190226.csv\")\n",
    "df6 =pd.read_csv(\"/users/priyasuresh/database/project/ETLoutput/POS_transactions_20190328-20190410.csv\")"
   ]
  },
  {
   "cell_type": "code",
   "execution_count": 73,
   "id": "0fdb5868-9fa1-4d9b-894d-517c7a45f286",
   "metadata": {
    "tags": []
   },
   "outputs": [
    {
     "data": {
      "text/html": [
       "<div>\n",
       "<style scoped>\n",
       "    .dataframe tbody tr th:only-of-type {\n",
       "        vertical-align: middle;\n",
       "    }\n",
       "\n",
       "    .dataframe tbody tr th {\n",
       "        vertical-align: top;\n",
       "    }\n",
       "\n",
       "    .dataframe thead th {\n",
       "        text-align: right;\n",
       "    }\n",
       "</style>\n",
       "<table border=\"1\" class=\"dataframe\">\n",
       "  <thead>\n",
       "    <tr style=\"text-align: right;\">\n",
       "      <th></th>\n",
       "      <th>WorkstationGroupID</th>\n",
       "      <th>TranID</th>\n",
       "      <th>BeginDateTime</th>\n",
       "      <th>EndDateTime</th>\n",
       "      <th>OperatorID</th>\n",
       "      <th>TranTime</th>\n",
       "      <th>BreakTime</th>\n",
       "      <th>ArtNum</th>\n",
       "      <th>TNcash</th>\n",
       "      <th>TNcard</th>\n",
       "      <th>Amount</th>\n",
       "    </tr>\n",
       "  </thead>\n",
       "  <tbody>\n",
       "    <tr>\n",
       "      <th>0</th>\n",
       "      <td>1</td>\n",
       "      <td>171207106022464</td>\n",
       "      <td>2017-12-07T14:23:23</td>\n",
       "      <td>2017-12-07T14:24:36</td>\n",
       "      <td>101</td>\n",
       "      <td>73</td>\n",
       "      <td>33</td>\n",
       "      <td>23</td>\n",
       "      <td>True</td>\n",
       "      <td>False</td>\n",
       "      <td>112.71</td>\n",
       "    </tr>\n",
       "    <tr>\n",
       "      <th>1</th>\n",
       "      <td>1</td>\n",
       "      <td>171207106022465</td>\n",
       "      <td>2017-12-07T14:25:09</td>\n",
       "      <td>2017-12-07T14:27:00</td>\n",
       "      <td>101</td>\n",
       "      <td>111</td>\n",
       "      <td>28</td>\n",
       "      <td>29</td>\n",
       "      <td>True</td>\n",
       "      <td>False</td>\n",
       "      <td>54.76</td>\n",
       "    </tr>\n",
       "    <tr>\n",
       "      <th>2</th>\n",
       "      <td>1</td>\n",
       "      <td>171207106022466</td>\n",
       "      <td>2017-12-07T14:27:28</td>\n",
       "      <td>2017-12-07T14:27:48</td>\n",
       "      <td>101</td>\n",
       "      <td>20</td>\n",
       "      <td>16</td>\n",
       "      <td>3</td>\n",
       "      <td>True</td>\n",
       "      <td>False</td>\n",
       "      <td>14.77</td>\n",
       "    </tr>\n",
       "    <tr>\n",
       "      <th>3</th>\n",
       "      <td>1</td>\n",
       "      <td>171207106022467</td>\n",
       "      <td>2017-12-07T14:28:04</td>\n",
       "      <td>2017-12-07T14:28:29</td>\n",
       "      <td>101</td>\n",
       "      <td>25</td>\n",
       "      <td>71</td>\n",
       "      <td>12</td>\n",
       "      <td>True</td>\n",
       "      <td>False</td>\n",
       "      <td>37.88</td>\n",
       "    </tr>\n",
       "    <tr>\n",
       "      <th>4</th>\n",
       "      <td>1</td>\n",
       "      <td>171207106022468</td>\n",
       "      <td>2017-12-07T14:29:40</td>\n",
       "      <td>2017-12-07T14:30:32</td>\n",
       "      <td>101</td>\n",
       "      <td>52</td>\n",
       "      <td>31</td>\n",
       "      <td>7</td>\n",
       "      <td>True</td>\n",
       "      <td>False</td>\n",
       "      <td>115.34</td>\n",
       "    </tr>\n",
       "  </tbody>\n",
       "</table>\n",
       "</div>"
      ],
      "text/plain": [
       "   WorkstationGroupID           TranID        BeginDateTime  \\\n",
       "0                   1  171207106022464  2017-12-07T14:23:23   \n",
       "1                   1  171207106022465  2017-12-07T14:25:09   \n",
       "2                   1  171207106022466  2017-12-07T14:27:28   \n",
       "3                   1  171207106022467  2017-12-07T14:28:04   \n",
       "4                   1  171207106022468  2017-12-07T14:29:40   \n",
       "\n",
       "           EndDateTime  OperatorID  TranTime  BreakTime  ArtNum  TNcash  \\\n",
       "0  2017-12-07T14:24:36         101        73         33      23    True   \n",
       "1  2017-12-07T14:27:00         101       111         28      29    True   \n",
       "2  2017-12-07T14:27:48         101        20         16       3    True   \n",
       "3  2017-12-07T14:28:29         101        25         71      12    True   \n",
       "4  2017-12-07T14:30:32         101        52         31       7    True   \n",
       "\n",
       "   TNcard  Amount  \n",
       "0   False  112.71  \n",
       "1   False   54.76  \n",
       "2   False   14.77  \n",
       "3   False   37.88  \n",
       "4   False  115.34  "
      ]
     },
     "execution_count": 73,
     "metadata": {},
     "output_type": "execute_result"
    }
   ],
   "source": [
    "df4.head()"
   ]
  },
  {
   "cell_type": "code",
   "execution_count": 74,
   "id": "a3609e15-81ce-4077-bfde-0b657f09e8ac",
   "metadata": {
    "tags": []
   },
   "outputs": [
    {
     "data": {
      "text/html": [
       "<div>\n",
       "<style scoped>\n",
       "    .dataframe tbody tr th:only-of-type {\n",
       "        vertical-align: middle;\n",
       "    }\n",
       "\n",
       "    .dataframe tbody tr th {\n",
       "        vertical-align: top;\n",
       "    }\n",
       "\n",
       "    .dataframe thead th {\n",
       "        text-align: right;\n",
       "    }\n",
       "</style>\n",
       "<table border=\"1\" class=\"dataframe\">\n",
       "  <thead>\n",
       "    <tr style=\"text-align: right;\">\n",
       "      <th></th>\n",
       "      <th>WorkstationGroupID</th>\n",
       "      <th>TranID</th>\n",
       "      <th>BeginDateTime</th>\n",
       "      <th>EndDateTime</th>\n",
       "      <th>OperatorID</th>\n",
       "      <th>TranTime</th>\n",
       "      <th>BreakTime</th>\n",
       "      <th>ArtNum</th>\n",
       "      <th>TNcash</th>\n",
       "      <th>TNcard</th>\n",
       "      <th>Amount</th>\n",
       "    </tr>\n",
       "  </thead>\n",
       "  <tbody>\n",
       "    <tr>\n",
       "      <th>0</th>\n",
       "      <td>1</td>\n",
       "      <td>19022310606223</td>\n",
       "      <td>2019-02-23T14:35:12</td>\n",
       "      <td>2019-02-23T14:35:12</td>\n",
       "      <td>10</td>\n",
       "      <td>0</td>\n",
       "      <td>2</td>\n",
       "      <td>1</td>\n",
       "      <td>False</td>\n",
       "      <td>False</td>\n",
       "      <td>1.79</td>\n",
       "    </tr>\n",
       "    <tr>\n",
       "      <th>1</th>\n",
       "      <td>1</td>\n",
       "      <td>190213106054</td>\n",
       "      <td>2019-02-13T07:50:14</td>\n",
       "      <td>2019-02-13T07:50:23</td>\n",
       "      <td>101</td>\n",
       "      <td>9</td>\n",
       "      <td>17</td>\n",
       "      <td>3</td>\n",
       "      <td>True</td>\n",
       "      <td>False</td>\n",
       "      <td>13.19</td>\n",
       "    </tr>\n",
       "    <tr>\n",
       "      <th>2</th>\n",
       "      <td>1</td>\n",
       "      <td>190213106055</td>\n",
       "      <td>2019-02-13T07:50:40</td>\n",
       "      <td>2019-02-13T07:51:01</td>\n",
       "      <td>101</td>\n",
       "      <td>21</td>\n",
       "      <td>209</td>\n",
       "      <td>6</td>\n",
       "      <td>True</td>\n",
       "      <td>False</td>\n",
       "      <td>21.20</td>\n",
       "    </tr>\n",
       "    <tr>\n",
       "      <th>3</th>\n",
       "      <td>1</td>\n",
       "      <td>190213106058</td>\n",
       "      <td>2019-02-13T07:54:30</td>\n",
       "      <td>2019-02-13T07:55:05</td>\n",
       "      <td>101</td>\n",
       "      <td>35</td>\n",
       "      <td>16</td>\n",
       "      <td>1</td>\n",
       "      <td>True</td>\n",
       "      <td>False</td>\n",
       "      <td>106.20</td>\n",
       "    </tr>\n",
       "    <tr>\n",
       "      <th>4</th>\n",
       "      <td>1</td>\n",
       "      <td>190213106059</td>\n",
       "      <td>2019-02-13T07:55:21</td>\n",
       "      <td>2019-02-13T07:55:27</td>\n",
       "      <td>101</td>\n",
       "      <td>6</td>\n",
       "      <td>17</td>\n",
       "      <td>1</td>\n",
       "      <td>True</td>\n",
       "      <td>False</td>\n",
       "      <td>106.20</td>\n",
       "    </tr>\n",
       "  </tbody>\n",
       "</table>\n",
       "</div>"
      ],
      "text/plain": [
       "   WorkstationGroupID          TranID        BeginDateTime  \\\n",
       "0                   1  19022310606223  2019-02-23T14:35:12   \n",
       "1                   1    190213106054  2019-02-13T07:50:14   \n",
       "2                   1    190213106055  2019-02-13T07:50:40   \n",
       "3                   1    190213106058  2019-02-13T07:54:30   \n",
       "4                   1    190213106059  2019-02-13T07:55:21   \n",
       "\n",
       "           EndDateTime  OperatorID  TranTime  BreakTime  ArtNum  TNcash  \\\n",
       "0  2019-02-23T14:35:12          10         0          2       1   False   \n",
       "1  2019-02-13T07:50:23         101         9         17       3    True   \n",
       "2  2019-02-13T07:51:01         101        21        209       6    True   \n",
       "3  2019-02-13T07:55:05         101        35         16       1    True   \n",
       "4  2019-02-13T07:55:27         101         6         17       1    True   \n",
       "\n",
       "   TNcard  Amount  \n",
       "0   False    1.79  \n",
       "1   False   13.19  \n",
       "2   False   21.20  \n",
       "3   False  106.20  \n",
       "4   False  106.20  "
      ]
     },
     "execution_count": 74,
     "metadata": {},
     "output_type": "execute_result"
    }
   ],
   "source": [
    "df5.head()"
   ]
  },
  {
   "cell_type": "code",
   "execution_count": 75,
   "id": "25460f5d-1fac-4d72-a1db-11079b628220",
   "metadata": {
    "tags": []
   },
   "outputs": [
    {
     "data": {
      "text/html": [
       "<div>\n",
       "<style scoped>\n",
       "    .dataframe tbody tr th:only-of-type {\n",
       "        vertical-align: middle;\n",
       "    }\n",
       "\n",
       "    .dataframe tbody tr th {\n",
       "        vertical-align: top;\n",
       "    }\n",
       "\n",
       "    .dataframe thead th {\n",
       "        text-align: right;\n",
       "    }\n",
       "</style>\n",
       "<table border=\"1\" class=\"dataframe\">\n",
       "  <thead>\n",
       "    <tr style=\"text-align: right;\">\n",
       "      <th></th>\n",
       "      <th>WorkstationGroupID</th>\n",
       "      <th>TranID</th>\n",
       "      <th>BeginDateTime</th>\n",
       "      <th>EndDateTime</th>\n",
       "      <th>OperatorID</th>\n",
       "      <th>TranTime</th>\n",
       "      <th>BreakTime</th>\n",
       "      <th>ArtNum</th>\n",
       "      <th>TNcash</th>\n",
       "      <th>TNcard</th>\n",
       "      <th>Amount</th>\n",
       "    </tr>\n",
       "  </thead>\n",
       "  <tbody>\n",
       "    <tr>\n",
       "      <th>0</th>\n",
       "      <td>1</td>\n",
       "      <td>1.904031e+13</td>\n",
       "      <td>2019-04-03T13:28:17</td>\n",
       "      <td>2019-04-03T13:28:17</td>\n",
       "      <td>10</td>\n",
       "      <td>0</td>\n",
       "      <td>1</td>\n",
       "      <td>1</td>\n",
       "      <td>False</td>\n",
       "      <td>False</td>\n",
       "      <td>11.99</td>\n",
       "    </tr>\n",
       "    <tr>\n",
       "      <th>1</th>\n",
       "      <td>1</td>\n",
       "      <td>1.903291e+13</td>\n",
       "      <td>2019-03-29T14:04:50</td>\n",
       "      <td>2019-03-29T14:05:31</td>\n",
       "      <td>101</td>\n",
       "      <td>41</td>\n",
       "      <td>21</td>\n",
       "      <td>6</td>\n",
       "      <td>True</td>\n",
       "      <td>False</td>\n",
       "      <td>13.74</td>\n",
       "    </tr>\n",
       "    <tr>\n",
       "      <th>2</th>\n",
       "      <td>1</td>\n",
       "      <td>1.903291e+13</td>\n",
       "      <td>2019-03-29T14:05:52</td>\n",
       "      <td>2019-03-29T14:06:35</td>\n",
       "      <td>101</td>\n",
       "      <td>43</td>\n",
       "      <td>44</td>\n",
       "      <td>12</td>\n",
       "      <td>True</td>\n",
       "      <td>False</td>\n",
       "      <td>97.47</td>\n",
       "    </tr>\n",
       "    <tr>\n",
       "      <th>3</th>\n",
       "      <td>1</td>\n",
       "      <td>1.903291e+13</td>\n",
       "      <td>2019-03-29T14:07:19</td>\n",
       "      <td>2019-03-29T14:07:43</td>\n",
       "      <td>101</td>\n",
       "      <td>24</td>\n",
       "      <td>25</td>\n",
       "      <td>6</td>\n",
       "      <td>False</td>\n",
       "      <td>True</td>\n",
       "      <td>37.18</td>\n",
       "    </tr>\n",
       "    <tr>\n",
       "      <th>4</th>\n",
       "      <td>1</td>\n",
       "      <td>1.903291e+13</td>\n",
       "      <td>2019-03-29T14:08:08</td>\n",
       "      <td>2019-03-29T14:09:44</td>\n",
       "      <td>101</td>\n",
       "      <td>96</td>\n",
       "      <td>18</td>\n",
       "      <td>48</td>\n",
       "      <td>True</td>\n",
       "      <td>False</td>\n",
       "      <td>154.70</td>\n",
       "    </tr>\n",
       "  </tbody>\n",
       "</table>\n",
       "</div>"
      ],
      "text/plain": [
       "   WorkstationGroupID        TranID        BeginDateTime          EndDateTime  \\\n",
       "0                   1  1.904031e+13  2019-04-03T13:28:17  2019-04-03T13:28:17   \n",
       "1                   1  1.903291e+13  2019-03-29T14:04:50  2019-03-29T14:05:31   \n",
       "2                   1  1.903291e+13  2019-03-29T14:05:52  2019-03-29T14:06:35   \n",
       "3                   1  1.903291e+13  2019-03-29T14:07:19  2019-03-29T14:07:43   \n",
       "4                   1  1.903291e+13  2019-03-29T14:08:08  2019-03-29T14:09:44   \n",
       "\n",
       "   OperatorID  TranTime  BreakTime  ArtNum  TNcash  TNcard  Amount  \n",
       "0          10         0          1       1   False   False   11.99  \n",
       "1         101        41         21       6    True   False   13.74  \n",
       "2         101        43         44      12    True   False   97.47  \n",
       "3         101        24         25       6   False    True   37.18  \n",
       "4         101        96         18      48    True   False  154.70  "
      ]
     },
     "execution_count": 75,
     "metadata": {},
     "output_type": "execute_result"
    }
   ],
   "source": [
    "df6.head()"
   ]
  },
  {
   "cell_type": "code",
   "execution_count": 76,
   "id": "6a73ce98-314f-4e92-b2bc-20cf50423945",
   "metadata": {
    "tags": []
   },
   "outputs": [
    {
     "data": {
      "text/plain": [
       "66863"
      ]
     },
     "execution_count": 76,
     "metadata": {},
     "output_type": "execute_result"
    }
   ],
   "source": [
    "len(df4)"
   ]
  },
  {
   "cell_type": "code",
   "execution_count": 77,
   "id": "eb242c9f-6702-4717-862a-4f16643c3614",
   "metadata": {
    "tags": []
   },
   "outputs": [
    {
     "data": {
      "text/plain": [
       "47066"
      ]
     },
     "execution_count": 77,
     "metadata": {},
     "output_type": "execute_result"
    }
   ],
   "source": [
    "len(df5)"
   ]
  },
  {
   "cell_type": "code",
   "execution_count": 78,
   "id": "7966b4a9-c010-42e7-b115-c93ac616eb8e",
   "metadata": {
    "tags": []
   },
   "outputs": [
    {
     "data": {
      "text/plain": [
       "49340"
      ]
     },
     "execution_count": 78,
     "metadata": {},
     "output_type": "execute_result"
    }
   ],
   "source": [
    "len(df6)"
   ]
  },
  {
   "cell_type": "code",
   "execution_count": 79,
   "id": "2d2fa4fd-5e46-4276-840b-a82f11688f63",
   "metadata": {
    "tags": []
   },
   "outputs": [],
   "source": [
    "#tranID in df6 is in float whereas other two df4 and df5 are in int.so coverting to int.\n",
    "df6['TranID'] = df6['TranID'].astype(int)"
   ]
  },
  {
   "cell_type": "code",
   "execution_count": 80,
   "id": "cdddea9d-7ed9-45db-b775-ab37c163fe66",
   "metadata": {
    "tags": []
   },
   "outputs": [
    {
     "data": {
      "text/html": [
       "<div>\n",
       "<style scoped>\n",
       "    .dataframe tbody tr th:only-of-type {\n",
       "        vertical-align: middle;\n",
       "    }\n",
       "\n",
       "    .dataframe tbody tr th {\n",
       "        vertical-align: top;\n",
       "    }\n",
       "\n",
       "    .dataframe thead th {\n",
       "        text-align: right;\n",
       "    }\n",
       "</style>\n",
       "<table border=\"1\" class=\"dataframe\">\n",
       "  <thead>\n",
       "    <tr style=\"text-align: right;\">\n",
       "      <th></th>\n",
       "      <th>WorkstationGroupID</th>\n",
       "      <th>TranID</th>\n",
       "      <th>BeginDateTime</th>\n",
       "      <th>EndDateTime</th>\n",
       "      <th>OperatorID</th>\n",
       "      <th>TranTime</th>\n",
       "      <th>BreakTime</th>\n",
       "      <th>ArtNum</th>\n",
       "      <th>TNcash</th>\n",
       "      <th>TNcard</th>\n",
       "      <th>Amount</th>\n",
       "    </tr>\n",
       "  </thead>\n",
       "  <tbody>\n",
       "    <tr>\n",
       "      <th>0</th>\n",
       "      <td>1</td>\n",
       "      <td>19040310601356</td>\n",
       "      <td>2019-04-03T13:28:17</td>\n",
       "      <td>2019-04-03T13:28:17</td>\n",
       "      <td>10</td>\n",
       "      <td>0</td>\n",
       "      <td>1</td>\n",
       "      <td>1</td>\n",
       "      <td>False</td>\n",
       "      <td>False</td>\n",
       "      <td>11.99</td>\n",
       "    </tr>\n",
       "    <tr>\n",
       "      <th>1</th>\n",
       "      <td>1</td>\n",
       "      <td>19032910607385</td>\n",
       "      <td>2019-03-29T14:04:50</td>\n",
       "      <td>2019-03-29T14:05:31</td>\n",
       "      <td>101</td>\n",
       "      <td>41</td>\n",
       "      <td>21</td>\n",
       "      <td>6</td>\n",
       "      <td>True</td>\n",
       "      <td>False</td>\n",
       "      <td>13.74</td>\n",
       "    </tr>\n",
       "    <tr>\n",
       "      <th>2</th>\n",
       "      <td>1</td>\n",
       "      <td>19032910607386</td>\n",
       "      <td>2019-03-29T14:05:52</td>\n",
       "      <td>2019-03-29T14:06:35</td>\n",
       "      <td>101</td>\n",
       "      <td>43</td>\n",
       "      <td>44</td>\n",
       "      <td>12</td>\n",
       "      <td>True</td>\n",
       "      <td>False</td>\n",
       "      <td>97.47</td>\n",
       "    </tr>\n",
       "    <tr>\n",
       "      <th>3</th>\n",
       "      <td>1</td>\n",
       "      <td>19032910607387</td>\n",
       "      <td>2019-03-29T14:07:19</td>\n",
       "      <td>2019-03-29T14:07:43</td>\n",
       "      <td>101</td>\n",
       "      <td>24</td>\n",
       "      <td>25</td>\n",
       "      <td>6</td>\n",
       "      <td>False</td>\n",
       "      <td>True</td>\n",
       "      <td>37.18</td>\n",
       "    </tr>\n",
       "    <tr>\n",
       "      <th>4</th>\n",
       "      <td>1</td>\n",
       "      <td>19032910607389</td>\n",
       "      <td>2019-03-29T14:08:08</td>\n",
       "      <td>2019-03-29T14:09:44</td>\n",
       "      <td>101</td>\n",
       "      <td>96</td>\n",
       "      <td>18</td>\n",
       "      <td>48</td>\n",
       "      <td>True</td>\n",
       "      <td>False</td>\n",
       "      <td>154.70</td>\n",
       "    </tr>\n",
       "  </tbody>\n",
       "</table>\n",
       "</div>"
      ],
      "text/plain": [
       "   WorkstationGroupID          TranID        BeginDateTime  \\\n",
       "0                   1  19040310601356  2019-04-03T13:28:17   \n",
       "1                   1  19032910607385  2019-03-29T14:04:50   \n",
       "2                   1  19032910607386  2019-03-29T14:05:52   \n",
       "3                   1  19032910607387  2019-03-29T14:07:19   \n",
       "4                   1  19032910607389  2019-03-29T14:08:08   \n",
       "\n",
       "           EndDateTime  OperatorID  TranTime  BreakTime  ArtNum  TNcash  \\\n",
       "0  2019-04-03T13:28:17          10         0          1       1   False   \n",
       "1  2019-03-29T14:05:31         101        41         21       6    True   \n",
       "2  2019-03-29T14:06:35         101        43         44      12    True   \n",
       "3  2019-03-29T14:07:43         101        24         25       6   False   \n",
       "4  2019-03-29T14:09:44         101        96         18      48    True   \n",
       "\n",
       "   TNcard  Amount  \n",
       "0   False   11.99  \n",
       "1   False   13.74  \n",
       "2   False   97.47  \n",
       "3    True   37.18  \n",
       "4   False  154.70  "
      ]
     },
     "execution_count": 80,
     "metadata": {},
     "output_type": "execute_result"
    }
   ],
   "source": [
    "df6.head()"
   ]
  },
  {
   "cell_type": "code",
   "execution_count": 81,
   "id": "e7fe9c8d-0028-4f2c-90b0-33500b5ad446",
   "metadata": {
    "tags": []
   },
   "outputs": [
    {
     "name": "stdout",
     "output_type": "stream",
     "text": [
      "datetime64[ns]\n",
      "datetime64[ns]\n"
     ]
    }
   ],
   "source": [
    "# Convert time columns to pandas datetime type- for dataframe4\n",
    "df4['BeginDateTime'] = pd.to_datetime(df4['BeginDateTime'])\n",
    "df4['EndDateTime'] = pd.to_datetime(df4['EndDateTime'])\n",
    "print(df4['BeginDateTime'].dtypes)\n",
    "print(df4['EndDateTime'].dtypes)"
   ]
  },
  {
   "cell_type": "code",
   "execution_count": 82,
   "id": "812edc2c-dc6a-4a98-a4a0-aa2608a62deb",
   "metadata": {
    "tags": []
   },
   "outputs": [
    {
     "name": "stdout",
     "output_type": "stream",
     "text": [
      "Null Values:\n",
      " WorkstationGroupID    0\n",
      "TranID                0\n",
      "BeginDateTime         0\n",
      "EndDateTime           0\n",
      "OperatorID            0\n",
      "TranTime              0\n",
      "BreakTime             0\n",
      "ArtNum                0\n",
      "TNcash                0\n",
      "TNcard                0\n",
      "Amount                0\n",
      "dtype: int64\n"
     ]
    }
   ],
   "source": [
    "# Checking for null values\n",
    "null_values = df4.isnull().sum()\n",
    "print(\"Null Values:\\n\", null_values)"
   ]
  },
  {
   "cell_type": "code",
   "execution_count": 83,
   "id": "1caf5f64-0cfc-47da-b303-1180cae4920f",
   "metadata": {
    "tags": []
   },
   "outputs": [
    {
     "name": "stdout",
     "output_type": "stream",
     "text": [
      "\n",
      "Duplicate Rows:\n",
      " Empty DataFrame\n",
      "Columns: [WorkstationGroupID, TranID, BeginDateTime, EndDateTime, OperatorID, TranTime, BreakTime, ArtNum, TNcash, TNcard, Amount]\n",
      "Index: []\n"
     ]
    }
   ],
   "source": [
    "# Check for duplicate rows\n",
    "duplicate_rows = df4[df4.duplicated()]\n",
    "\n",
    "print(\"\\nDuplicate Rows:\\n\", duplicate_rows)"
   ]
  },
  {
   "cell_type": "code",
   "execution_count": 84,
   "id": "598cf456-1423-4936-a27b-5d95b25c4dba",
   "metadata": {
    "tags": []
   },
   "outputs": [
    {
     "name": "stdout",
     "output_type": "stream",
     "text": [
      "Empty DataFrame\n",
      "Columns: [WorkstationGroupID, TranID, BeginDateTime, EndDateTime, OperatorID, TranTime, BreakTime, ArtNum, TNcash, TNcard, Amount]\n",
      "Index: []\n"
     ]
    }
   ],
   "source": [
    "# Find duplicates based on 'TranID' and 'BeginDateTime'\n",
    "duplicated_rows = df4[df4.duplicated(subset=['TranID', 'BeginDateTime'], keep=False)]\n",
    "\n",
    "# Print the duplicated rows\n",
    "print(duplicated_rows)"
   ]
  },
  {
   "cell_type": "code",
   "execution_count": 85,
   "id": "3210fbde-554c-49f9-b99c-ab2d563220f7",
   "metadata": {
    "tags": []
   },
   "outputs": [
    {
     "name": "stdout",
     "output_type": "stream",
     "text": [
      "TranID is unique across the DataFrame.\n"
     ]
    }
   ],
   "source": [
    "# Check if there are any duplicated TranID values in the DataFrame\n",
    "duplicated_tranids = df4[df4['TranID'].duplicated(keep=False)]\n",
    "\n",
    "# Print the duplicated TranIDs if any exist\n",
    "if not duplicated_tranids.empty:\n",
    "    print(\"Duplicated TranIDs found:\", duplicated_tranids['TranID'].unique())\n",
    "else:\n",
    "    print(\"TranID is unique across the DataFrame.\")"
   ]
  },
  {
   "cell_type": "code",
   "execution_count": 86,
   "id": "be17012f-fbe6-4bc7-983f-d01772362ef1",
   "metadata": {
    "tags": []
   },
   "outputs": [
    {
     "name": "stdout",
     "output_type": "stream",
     "text": [
      "datetime64[ns]\n",
      "datetime64[ns]\n"
     ]
    }
   ],
   "source": [
    "# Convert time columns to pandas datetime type- for dataframe5\n",
    "df5['BeginDateTime'] = pd.to_datetime(df5['BeginDateTime'])\n",
    "df5['EndDateTime'] = pd.to_datetime(df5['EndDateTime'])\n",
    "print(df5['BeginDateTime'].dtypes)\n",
    "print(df5['EndDateTime'].dtypes)"
   ]
  },
  {
   "cell_type": "code",
   "execution_count": 87,
   "id": "100f347f-c6e9-42b8-ad16-1197463f5a0f",
   "metadata": {
    "tags": []
   },
   "outputs": [
    {
     "name": "stdout",
     "output_type": "stream",
     "text": [
      "Null Values:\n",
      " WorkstationGroupID    0\n",
      "TranID                0\n",
      "BeginDateTime         0\n",
      "EndDateTime           0\n",
      "OperatorID            0\n",
      "TranTime              0\n",
      "BreakTime             0\n",
      "ArtNum                0\n",
      "TNcash                0\n",
      "TNcard                0\n",
      "Amount                0\n",
      "dtype: int64\n"
     ]
    }
   ],
   "source": [
    "# Checking for null values\n",
    "null_values = df5.isnull().sum()\n",
    "print(\"Null Values:\\n\", null_values)"
   ]
  },
  {
   "cell_type": "code",
   "execution_count": 88,
   "id": "67c32ba2-6297-4741-bada-32d67f198b74",
   "metadata": {
    "tags": []
   },
   "outputs": [
    {
     "name": "stdout",
     "output_type": "stream",
     "text": [
      "\n",
      "Duplicate Rows:\n",
      " Empty DataFrame\n",
      "Columns: [WorkstationGroupID, TranID, BeginDateTime, EndDateTime, OperatorID, TranTime, BreakTime, ArtNum, TNcash, TNcard, Amount]\n",
      "Index: []\n"
     ]
    }
   ],
   "source": [
    "# Checking for duplicate rows\n",
    "duplicate_rows = df5[df5.duplicated()]\n",
    "\n",
    "print(\"\\nDuplicate Rows:\\n\", duplicate_rows)"
   ]
  },
  {
   "cell_type": "code",
   "execution_count": 89,
   "id": "178a8e89-d74b-40e2-a40e-9318a5e07d82",
   "metadata": {
    "tags": []
   },
   "outputs": [
    {
     "name": "stdout",
     "output_type": "stream",
     "text": [
      "Duplicated TranIDs found: [ 1902161060214  1902161060217  1902161060224  1902161060225\n",
      "  1902231060224  1902231060225  1902231060229 19022310602210\n",
      " 19022310602211 19022310602212 19022310602213 19022310602214\n",
      " 19022310602215 19022310602216 19022310602218 19022310602222\n",
      " 19022310602228 19022310602229 19022310602231 19022310602233\n",
      " 19022310602235 19022310602237 19022310602238 19022310602240\n",
      " 19022310602241 19022310602242 19022310602245 19022310602249\n",
      " 19022310602250 19022310602251 19022310602255 19022310602257\n",
      " 19022310602263 19022310602265 19022310602268 19022310602269\n",
      " 19022310602271 19022310602274 19022310602275 19022310602277\n",
      " 19022310602279 19022310602282 19022310602284 19022310602285\n",
      " 19022310602286 19022310602289 19022310602293 19022310602295\n",
      " 19022310602298  1902231060214  1902231060217 19022310602110\n",
      " 19022310602112 19022310602114 19022310602115 19022310602116\n",
      " 19022310602118 19022310602120 19022310602121 19022310602122\n",
      " 19022310602124 19022310602126 19022310602129 19022310602131\n",
      " 19022310602133 19022310602134 19022310602147 19022310602151\n",
      " 19022310602153 19022310602157 19022310602158 19022310602164\n",
      " 19022310602167 19022310602169 19022310602172 19022310602174\n",
      " 19022310602178 19022310602179 19022310602181 19022310602182\n",
      " 19022310602184 19022310602186 19022310602188 19022310602189\n",
      " 19022310602191 19022310602193 19022310602196 19022310602198\n",
      "  1902211060124  1902211060126  1902211060224  1902211060225\n",
      "  1902211060228 19022110602211 19022110602212 19022110602215\n",
      " 19022110602216 19022110602217 19022110602218 19022110602219\n",
      " 19022110602221 19022110602222 19022110602225 19022110602227\n",
      " 19022110602228 19022110602229 19022110602231 19022110602237\n",
      " 19022110602260 19022110602264 19022110602265  1902211060174\n",
      "  1902211060175  1902211060177  1902211060218 19022110602110\n",
      " 19022110602112 19022110602114 19022110602116 19022110602118\n",
      " 19022110602119 19022110602124 19022110602129 19022110602136\n",
      " 19022110602138 19022110602139 19022110602140 19022110602142\n",
      " 19022110602146 19022110602147 19022110602152 19022110602155\n",
      " 19022110602157 19022110602159 19022110602163 19022110602165\n",
      " 19022110602166 19022110602167 19022110602171 19022110602175\n",
      " 19022110602177 19022110602179 19022110602181 19022110602182\n",
      " 19022110602185 19022110602186 19022110602189 19022110602190\n",
      " 19022110602192 19022110602194 19022110602196]\n"
     ]
    }
   ],
   "source": [
    "# Check if there are any duplicated TranID values in the DataFrame\n",
    "duplicated_tranids = df5[df5['TranID'].duplicated(keep=False)]\n",
    "\n",
    "# Print the duplicated TranIDs if any exist\n",
    "if not duplicated_tranids.empty:\n",
    "    print(\"Duplicated TranIDs found:\", duplicated_tranids['TranID'].unique())\n",
    "else:\n",
    "    print(\"TranID is unique across the DataFrame.\")"
   ]
  },
  {
   "cell_type": "code",
   "execution_count": 90,
   "id": "06704556-7ba8-4b47-b735-6c4604590ae9",
   "metadata": {
    "tags": []
   },
   "outputs": [
    {
     "name": "stdout",
     "output_type": "stream",
     "text": [
      "Empty DataFrame\n",
      "Columns: [WorkstationGroupID, TranID, BeginDateTime, EndDateTime, OperatorID, TranTime, BreakTime, ArtNum, TNcash, TNcard, Amount]\n",
      "Index: []\n"
     ]
    }
   ],
   "source": [
    "# Finding duplicates based on 'TranID' and 'BeginDateTime'\n",
    "duplicated_rows = df5[df5.duplicated(subset=['TranID', 'BeginDateTime'], keep=False)]\n",
    "\n",
    "# Printing the duplicated rows\n",
    "print(duplicated_rows)"
   ]
  },
  {
   "cell_type": "code",
   "execution_count": 91,
   "id": "7136e0ba-bc45-43bb-bb11-68f855bf2922",
   "metadata": {
    "tags": []
   },
   "outputs": [
    {
     "name": "stdout",
     "output_type": "stream",
     "text": [
      "datetime64[ns]\n",
      "datetime64[ns]\n"
     ]
    }
   ],
   "source": [
    "# Convert time columns to pandas datetime type- for dataframe5\n",
    "df6['BeginDateTime'] = pd.to_datetime(df6['BeginDateTime'])\n",
    "df6['EndDateTime'] = pd.to_datetime(df6['EndDateTime'])\n",
    "print(df6['BeginDateTime'].dtypes)\n",
    "print(df6['EndDateTime'].dtypes)"
   ]
  },
  {
   "cell_type": "code",
   "execution_count": 92,
   "id": "38dd1817-41a1-4477-a56a-86312d067b02",
   "metadata": {
    "tags": []
   },
   "outputs": [
    {
     "name": "stdout",
     "output_type": "stream",
     "text": [
      "Null Values:\n",
      " WorkstationGroupID    0\n",
      "TranID                0\n",
      "BeginDateTime         0\n",
      "EndDateTime           0\n",
      "OperatorID            0\n",
      "TranTime              0\n",
      "BreakTime             0\n",
      "ArtNum                0\n",
      "TNcash                0\n",
      "TNcard                0\n",
      "Amount                0\n",
      "dtype: int64\n"
     ]
    }
   ],
   "source": [
    "# Checking for null values\n",
    "null_values = df6.isnull().sum()\n",
    "print(\"Null Values:\\n\", null_values)"
   ]
  },
  {
   "cell_type": "code",
   "execution_count": 93,
   "id": "cf9eb771-daf2-413a-b21b-695f44bd288a",
   "metadata": {
    "tags": []
   },
   "outputs": [
    {
     "name": "stdout",
     "output_type": "stream",
     "text": [
      "\n",
      "Duplicate Rows:\n",
      " Empty DataFrame\n",
      "Columns: [WorkstationGroupID, TranID, BeginDateTime, EndDateTime, OperatorID, TranTime, BreakTime, ArtNum, TNcash, TNcard, Amount]\n",
      "Index: []\n"
     ]
    }
   ],
   "source": [
    "# Checking for duplicate rows\n",
    "duplicate_rows = df6[df6.duplicated()]\n",
    "\n",
    "print(\"\\nDuplicate Rows:\\n\", duplicate_rows)"
   ]
  },
  {
   "cell_type": "code",
   "execution_count": 94,
   "id": "485c67e8-15f1-443a-832d-0ca047ae69a8",
   "metadata": {
    "tags": []
   },
   "outputs": [
    {
     "name": "stdout",
     "output_type": "stream",
     "text": [
      "Duplicated TranIDs found: [ 19040910602274  19040910602275  19040910602276  19040910602277\n",
      "  19040910602279  19040910602282  19040910602283  19040910602285\n",
      "  19040910602286  19040910602288  19040910602290  19040910602292\n",
      "  19040910602295   1903301060216   1903301060217   1903301060219\n",
      "  19033010602110  19033010602112  19033010602114  19033010602116\n",
      "  19033010602124  19033010602126  19033010602129  19033010602131\n",
      "  19033010602135  19033010602138  19033010602140  19033010602142\n",
      "  19033010602144  19033010602146  19033010602148  19033010602149\n",
      "  19033010602151  19033010602153  19033010602155  19033010602157\n",
      "  19033010602159  19033010602160  19033010602162  19033010602165\n",
      "  19033010602166  19033010602167  19033010602172  19033010602176\n",
      "  19033010602180  19033010602181  19033010602184  19033010602187\n",
      "  19033010602193   1904061060234   1904061060237  19040410000000\n",
      "  19040510000000 190405100000000 190406100000000  19040610000000\n",
      "   1904081000000  19040810000000   1904091000000  19040910000000\n",
      " 190409100000000  19040110000000  19040210000000  19040310000000\n",
      " 190404100000000  19041010000000   1903291000000  19032910000000\n",
      "  19033010000000   1903311000000  19033110000000   1904021000000\n",
      "   1904101000000   1904051000000   1904061000000   1903301000000\n",
      "   1903281000000  19032810000000 190328100000000 190329100000000\n",
      " 190330100000000   1904011000000   1904041000000 190408100000000\n",
      "   1904031000000 190403100000000 190410100000000 190331100000000\n",
      " 190401100000000 190402100000000]\n"
     ]
    }
   ],
   "source": [
    "# Checking if there are any duplicated TranID values in the DataFrame\n",
    "duplicated_tranids = df6[df6['TranID'].duplicated(keep=False)]\n",
    "\n",
    "# Printing the duplicated TranIDs if any exist\n",
    "if not duplicated_tranids.empty:\n",
    "    print(\"Duplicated TranIDs found:\", duplicated_tranids['TranID'].unique())\n",
    "else:\n",
    "    print(\"TranID is unique across the DataFrame.\")"
   ]
  },
  {
   "cell_type": "code",
   "execution_count": 95,
   "id": "146aa621-ecf5-4d4c-933e-b1d90522a5f3",
   "metadata": {
    "tags": []
   },
   "outputs": [
    {
     "name": "stdout",
     "output_type": "stream",
     "text": [
      "Empty DataFrame\n",
      "Columns: [WorkstationGroupID, TranID, BeginDateTime, EndDateTime, OperatorID, TranTime, BreakTime, ArtNum, TNcash, TNcard, Amount]\n",
      "Index: []\n"
     ]
    }
   ],
   "source": [
    "# Finding duplicates based on 'TranID' and 'BeginDateTime'\n",
    "duplicated_rows = df6[df6.duplicated(subset=['TranID', 'BeginDateTime','OperatorID'], keep=False)]\n",
    "\n",
    "# Printing the duplicated rows\n",
    "print(duplicated_rows)"
   ]
  },
  {
   "cell_type": "code",
   "execution_count": 96,
   "id": "5f0532aa-9aa6-4f2f-ba0a-6030bec43c72",
   "metadata": {
    "tags": []
   },
   "outputs": [],
   "source": [
    "#combining all three transaction logs CSV dataframes into one.\n",
    "df_transaction_logs = pd.concat([df4, df5, df6], ignore_index=True)"
   ]
  },
  {
   "cell_type": "code",
   "execution_count": 97,
   "id": "abdf793b-76ea-4157-9ed0-f42c23525672",
   "metadata": {
    "tags": []
   },
   "outputs": [
    {
     "data": {
      "text/html": [
       "<div>\n",
       "<style scoped>\n",
       "    .dataframe tbody tr th:only-of-type {\n",
       "        vertical-align: middle;\n",
       "    }\n",
       "\n",
       "    .dataframe tbody tr th {\n",
       "        vertical-align: top;\n",
       "    }\n",
       "\n",
       "    .dataframe thead th {\n",
       "        text-align: right;\n",
       "    }\n",
       "</style>\n",
       "<table border=\"1\" class=\"dataframe\">\n",
       "  <thead>\n",
       "    <tr style=\"text-align: right;\">\n",
       "      <th></th>\n",
       "      <th>WorkstationGroupID</th>\n",
       "      <th>TranID</th>\n",
       "      <th>BeginDateTime</th>\n",
       "      <th>EndDateTime</th>\n",
       "      <th>OperatorID</th>\n",
       "      <th>TranTime</th>\n",
       "      <th>BreakTime</th>\n",
       "      <th>ArtNum</th>\n",
       "      <th>TNcash</th>\n",
       "      <th>TNcard</th>\n",
       "      <th>Amount</th>\n",
       "    </tr>\n",
       "  </thead>\n",
       "  <tbody>\n",
       "    <tr>\n",
       "      <th>0</th>\n",
       "      <td>1</td>\n",
       "      <td>171207106022464</td>\n",
       "      <td>2017-12-07 14:23:23</td>\n",
       "      <td>2017-12-07 14:24:36</td>\n",
       "      <td>101</td>\n",
       "      <td>73</td>\n",
       "      <td>33</td>\n",
       "      <td>23</td>\n",
       "      <td>True</td>\n",
       "      <td>False</td>\n",
       "      <td>112.71</td>\n",
       "    </tr>\n",
       "    <tr>\n",
       "      <th>1</th>\n",
       "      <td>1</td>\n",
       "      <td>171207106022465</td>\n",
       "      <td>2017-12-07 14:25:09</td>\n",
       "      <td>2017-12-07 14:27:00</td>\n",
       "      <td>101</td>\n",
       "      <td>111</td>\n",
       "      <td>28</td>\n",
       "      <td>29</td>\n",
       "      <td>True</td>\n",
       "      <td>False</td>\n",
       "      <td>54.76</td>\n",
       "    </tr>\n",
       "    <tr>\n",
       "      <th>2</th>\n",
       "      <td>1</td>\n",
       "      <td>171207106022466</td>\n",
       "      <td>2017-12-07 14:27:28</td>\n",
       "      <td>2017-12-07 14:27:48</td>\n",
       "      <td>101</td>\n",
       "      <td>20</td>\n",
       "      <td>16</td>\n",
       "      <td>3</td>\n",
       "      <td>True</td>\n",
       "      <td>False</td>\n",
       "      <td>14.77</td>\n",
       "    </tr>\n",
       "    <tr>\n",
       "      <th>3</th>\n",
       "      <td>1</td>\n",
       "      <td>171207106022467</td>\n",
       "      <td>2017-12-07 14:28:04</td>\n",
       "      <td>2017-12-07 14:28:29</td>\n",
       "      <td>101</td>\n",
       "      <td>25</td>\n",
       "      <td>71</td>\n",
       "      <td>12</td>\n",
       "      <td>True</td>\n",
       "      <td>False</td>\n",
       "      <td>37.88</td>\n",
       "    </tr>\n",
       "    <tr>\n",
       "      <th>4</th>\n",
       "      <td>1</td>\n",
       "      <td>171207106022468</td>\n",
       "      <td>2017-12-07 14:29:40</td>\n",
       "      <td>2017-12-07 14:30:32</td>\n",
       "      <td>101</td>\n",
       "      <td>52</td>\n",
       "      <td>31</td>\n",
       "      <td>7</td>\n",
       "      <td>True</td>\n",
       "      <td>False</td>\n",
       "      <td>115.34</td>\n",
       "    </tr>\n",
       "  </tbody>\n",
       "</table>\n",
       "</div>"
      ],
      "text/plain": [
       "   WorkstationGroupID           TranID       BeginDateTime  \\\n",
       "0                   1  171207106022464 2017-12-07 14:23:23   \n",
       "1                   1  171207106022465 2017-12-07 14:25:09   \n",
       "2                   1  171207106022466 2017-12-07 14:27:28   \n",
       "3                   1  171207106022467 2017-12-07 14:28:04   \n",
       "4                   1  171207106022468 2017-12-07 14:29:40   \n",
       "\n",
       "          EndDateTime  OperatorID  TranTime  BreakTime  ArtNum  TNcash  \\\n",
       "0 2017-12-07 14:24:36         101        73         33      23    True   \n",
       "1 2017-12-07 14:27:00         101       111         28      29    True   \n",
       "2 2017-12-07 14:27:48         101        20         16       3    True   \n",
       "3 2017-12-07 14:28:29         101        25         71      12    True   \n",
       "4 2017-12-07 14:30:32         101        52         31       7    True   \n",
       "\n",
       "   TNcard  Amount  \n",
       "0   False  112.71  \n",
       "1   False   54.76  \n",
       "2   False   14.77  \n",
       "3   False   37.88  \n",
       "4   False  115.34  "
      ]
     },
     "execution_count": 97,
     "metadata": {},
     "output_type": "execute_result"
    }
   ],
   "source": [
    "df_transaction_logs.head()"
   ]
  },
  {
   "cell_type": "code",
   "execution_count": 98,
   "id": "2e75f463-41e6-4182-8e73-7f1c69e45984",
   "metadata": {
    "tags": []
   },
   "outputs": [
    {
     "name": "stdout",
     "output_type": "stream",
     "text": [
      "   WorkstationGroupID           TranID       BeginDateTime  \\\n",
      "0                   1  171207106022464 2017-12-07 14:23:23   \n",
      "1                   1  171207106022465 2017-12-07 14:25:09   \n",
      "2                   1  171207106022466 2017-12-07 14:27:28   \n",
      "3                   1  171207106022467 2017-12-07 14:28:04   \n",
      "4                   1  171207106022468 2017-12-07 14:29:40   \n",
      "\n",
      "          EndDateTime  OperatorID  TranTime  BreakTime  ArtNum  TNcash  \\\n",
      "0 2017-12-07 14:24:36         101        73         33      23    True   \n",
      "1 2017-12-07 14:27:00         101       111         28      29    True   \n",
      "2 2017-12-07 14:27:48         101        20         16       3    True   \n",
      "3 2017-12-07 14:28:29         101        25         71      12    True   \n",
      "4 2017-12-07 14:30:32         101        52         31       7    True   \n",
      "\n",
      "   TNcard  Amount       TransactionKey  \n",
      "0   False  112.71  3513023325031190557  \n",
      "1   False   54.76  6503617900975682574  \n",
      "2   False   14.77  8270465865228709726  \n",
      "3   False   37.88  7683550526080090239  \n",
      "4   False  115.34  5597563115761662761  \n"
     ]
    }
   ],
   "source": [
    "# Generate a unique positive transaction key based on the absolute value of hash of relevant columns\n",
    "df_transaction_logs['TransactionKey'] = df_transaction_logs.apply(lambda row: abs(hash((row['TranID'], row['BeginDateTime'], row['OperatorID']))), axis=1)\n",
    "\n",
    "# Display the updated dataframe\n",
    "print(df_transaction_logs.head())\n"
   ]
  },
  {
   "cell_type": "code",
   "execution_count": 99,
   "id": "04f69dc3-03a5-4c0e-8514-31e2f7e32c91",
   "metadata": {
    "tags": []
   },
   "outputs": [
    {
     "name": "stdout",
     "output_type": "stream",
     "text": [
      "Empty DataFrame\n",
      "Columns: [WorkstationGroupID, WorkstationID, TranID, BeginDateTime, OperatorID, Items, TransactionKey]\n",
      "Index: []\n"
     ]
    }
   ],
   "source": [
    "# Find common TransactionKeys between the two dataframes\n",
    "common_keys = df_operation_logs[df_operation_logs['TransactionKey'].isin(df_transaction_logs['TransactionKey'])]\n",
    "\n",
    "# Display the rows with common TransactionKeys from df_operation_logs\n",
    "print(common_keys)\n"
   ]
  },
  {
   "cell_type": "code",
   "execution_count": 1,
   "id": "27f09119-5979-427f-b894-39f3fc940164",
   "metadata": {
    "tags": []
   },
   "outputs": [
    {
     "name": "stdin",
     "output_type": "stream",
     "text": [
      "Enter username:  root\n",
      "Enter password:  ········\n"
     ]
    },
    {
     "name": "stdout",
     "output_type": "stream",
     "text": [
      "Connection and cursor established!\n"
     ]
    }
   ],
   "source": [
    "#connecting to mysql database\n",
    "from getpass import getpass\n",
    "from mysql.connector import connect, Error\n",
    "\n",
    "try:\n",
    "    connection = connect(\n",
    "        host=\"localhost\",\n",
    "        user=input(\"Enter username: \"),\n",
    "        password=getpass(\"Enter password: \"),\n",
    "        allow_local_infile=True\n",
    "    )\n",
    "    cursor = connection.cursor()\n",
    "    print(\"Connection and cursor established!\")\n",
    "    \n",
    "except Error as e:\n",
    "    print(e)"
   ]
  },
  {
   "cell_type": "code",
   "execution_count": 2,
   "id": "8189a2c3-cebc-4265-a1fe-d2516526c66d",
   "metadata": {
    "tags": []
   },
   "outputs": [],
   "source": [
    "cursor = connection.cursor()"
   ]
  },
  {
   "cell_type": "code",
   "execution_count": 102,
   "id": "f5c5aab2-c618-4f3f-a813-858b12047e4d",
   "metadata": {
    "tags": []
   },
   "outputs": [],
   "source": [
    "#create new database for POS_datawarehouse_DB\n",
    "create_db_query = \"CREATE DATABASE Datawarehouse_POS\"\n",
    "with connection.cursor() as cursor:\n",
    "    cursor.execute(create_db_query)"
   ]
  },
  {
   "cell_type": "code",
   "execution_count": 103,
   "id": "71629e01-4068-45b8-bbd9-f54ac2627204",
   "metadata": {
    "tags": []
   },
   "outputs": [
    {
     "name": "stdout",
     "output_type": "stream",
     "text": [
      "('Communities_DB',)\n",
      "('Datawarehouse_POS',)\n",
      "('employees',)\n",
      "('Homework3_DB',)\n",
      "('hospital',)\n",
      "('information_schema',)\n",
      "('mysql',)\n",
      "('performance_schema',)\n",
      "('POS_Datawarehouse',)\n",
      "('sys',)\n",
      "('testdatabase',)\n"
     ]
    }
   ],
   "source": [
    "#checking whether database is created\n",
    "show_db_query = \"SHOW DATABASES\"\n",
    "with connection.cursor() as cursor:\n",
    "    cursor.execute(show_db_query)\n",
    "    for db in cursor:\n",
    "        print(db)"
   ]
  },
  {
   "cell_type": "code",
   "execution_count": 3,
   "id": "5c78da99-6cb4-4cd8-ab52-c7f7ce0840b2",
   "metadata": {
    "tags": []
   },
   "outputs": [],
   "source": [
    "use_database_query = \"USE Datawarehouse_POS\" \n",
    "with connection.cursor() as cursor:\n",
    "    cursor.execute(use_database_query)"
   ]
  },
  {
   "cell_type": "code",
   "execution_count": 105,
   "id": "721b95dd-bef2-4fb7-b080-546ee849ac3f",
   "metadata": {
    "tags": []
   },
   "outputs": [
    {
     "name": "stdout",
     "output_type": "stream",
     "text": [
      "Table created successfully!\n"
     ]
    }
   ],
   "source": [
    "#creating staging tables\n",
    "create_transaction_logs_staging_table_query = \"\"\"\n",
    "CREATE TABLE Staging_Transaction_Logs (\n",
    "    WorkstationGroupID INT,\n",
    "    TranID BIGINT,\n",
    "    BeginDateTime DATETIME,\n",
    "    EndDateTime DATETIME,\n",
    "    OperatorID INT,\n",
    "    TranTime INT,\n",
    "    BreakTime INT,\n",
    "    ArtNum INT,\n",
    "    TNcash BOOLEAN,\n",
    "    TNcard BOOLEAN,\n",
    "    Amount DECIMAL(10,2),\n",
    "    TransactionKey BIGINT PRIMARY KEY\n",
    ");\n",
    "\"\"\"\n",
    "\n",
    "try:\n",
    "    with connection.cursor() as cursor:\n",
    "        cursor.execute(create_transaction_logs_staging_table_query)\n",
    "    print(\"Table created successfully!\")\n",
    "except Error as e:\n",
    "    print(\"Error:\", e)\n"
   ]
  },
  {
   "cell_type": "code",
   "execution_count": 106,
   "id": "7de5707a-f0ce-4117-aafc-40a318c6e6e3",
   "metadata": {
    "tags": []
   },
   "outputs": [
    {
     "name": "stdout",
     "output_type": "stream",
     "text": [
      "Inserted 163269 rows successfully!\n"
     ]
    }
   ],
   "source": [
    "# Converting the DataFrame to a list of tuples\n",
    "data_tuples = list(df_transaction_logs.itertuples(index=False, name=None))\n",
    "\n",
    "insert_query = \"\"\"\n",
    "INSERT INTO Staging_Transaction_Logs (\n",
    "    WorkstationGroupID, TranID, BeginDateTime, EndDateTime, OperatorID,\n",
    "    TranTime, BreakTime, ArtNum, TNcash, TNcard, Amount, TransactionKey\n",
    ") VALUES (%s, %s, %s, %s, %s, %s, %s, %s, %s, %s, %s, %s);\n",
    "\"\"\"\n",
    "\n",
    "try:\n",
    "    with connection.cursor() as cursor:\n",
    "        cursor.executemany(insert_query, data_tuples)\n",
    "    connection.commit()\n",
    "    print(f\"Inserted {cursor.rowcount} rows successfully!\")\n",
    "except Error as e:\n",
    "    print(\"Error:\", e)\n"
   ]
  },
  {
   "cell_type": "code",
   "execution_count": 107,
   "id": "eb939926-a389-4ad2-a2ad-873ce53c9dc8",
   "metadata": {
    "tags": []
   },
   "outputs": [
    {
     "name": "stdout",
     "output_type": "stream",
     "text": [
      "Table created successfully!\n"
     ]
    }
   ],
   "source": [
    "#creating staging table for operations logs\n",
    "create_operation_logs_staging_table_query = \"\"\"\n",
    "CREATE TABLE Staging_Operation_Logs (\n",
    "    TransactionKey BIGINT PRIMARY KEY,  -- Setting TransactionKey as the primary key\n",
    "    WorkstationGroupID INT,\n",
    "    WorkstationID INT,\n",
    "    TranID BIGINT,\n",
    "    BeginDateTime DATETIME,\n",
    "    OperatorID INT,\n",
    "    Items VARCHAR(255)\n",
    ");\n",
    "\"\"\"\n",
    "\n",
    "try:\n",
    "    with connection.cursor() as cursor:\n",
    "        cursor.execute(create_operation_logs_staging_table_query)\n",
    "    print(\"Table created successfully!\")\n",
    "except Error as e:\n",
    "    print(\"Error:\", e)\n"
   ]
  },
  {
   "cell_type": "code",
   "execution_count": 108,
   "id": "7f13e0a9-a9a1-45ef-a94e-35db0f6e645a",
   "metadata": {
    "tags": []
   },
   "outputs": [
    {
     "name": "stdout",
     "output_type": "stream",
     "text": [
      "Inserted 14104 rows successfully!\n"
     ]
    }
   ],
   "source": [
    "# Converting the DataFrame to a list of tuples, making sure to include TransactionKey\n",
    "data_tuples = list(df_operation_logs[['TransactionKey', 'WorkstationGroupID', 'WorkstationID', 'TranID', 'BeginDateTime', 'OperatorID', 'Items']].itertuples(index=False, name=None))\n",
    "\n",
    "insert_query = \"\"\"\n",
    "INSERT INTO Staging_Operation_Logs (\n",
    "    TransactionKey, WorkstationGroupID, WorkstationID, TranID, BeginDateTime, OperatorID, Items\n",
    ") VALUES (%s, %s, %s, %s, %s, %s, %s);\n",
    "\"\"\"\n",
    "\n",
    "try:\n",
    "    with connection.cursor() as cursor:\n",
    "        cursor.executemany(insert_query, data_tuples)\n",
    "    connection.commit()\n",
    "    print(f\"Inserted {cursor.rowcount} rows successfully!\")\n",
    "except Error as e:\n",
    "    print(\"Error:\", e)\n"
   ]
  },
  {
   "cell_type": "code",
   "execution_count": 109,
   "id": "501895a3-94f4-4795-82dc-0b933dc696df",
   "metadata": {
    "tags": []
   },
   "outputs": [],
   "source": [
    "# Creating TimeDimension table\n",
    "create_time_dimension_query = \"\"\"\n",
    "CREATE TABLE TimeDimension (\n",
    "    HourID INT PRIMARY KEY,\n",
    "    Date DATE,\n",
    "    Week INT,\n",
    "    Month INT,\n",
    "    Year INT,\n",
    "    DayOfWeek VARCHAR(10),\n",
    "    TimeOfDay INT,\n",
    "    IsWeekend TINYINT(1)  -- 1 represents True, 0 represents False\n",
    ");\n",
    "\"\"\"\n",
    "\n",
    "# Populating TimeDimension table\n",
    "populate_time_dimension_query = \"\"\"\n",
    "INSERT INTO TimeDimension (HourID, Date, Week, Month, Year, DayOfWeek, TimeOfDay, IsWeekend)\n",
    "SELECT DISTINCT \n",
    "    HOUR(BeginDateTime) * 10000 + DAY(BeginDateTime) * 100 + MONTH(BeginDateTime) AS HourID,\n",
    "    DATE(BeginDateTime) AS Date,\n",
    "    WEEK(BeginDateTime) AS Week,\n",
    "    MONTH(BeginDateTime) AS Month,\n",
    "    YEAR(BeginDateTime) AS Year,\n",
    "    CASE \n",
    "        WHEN DAYOFWEEK(BeginDateTime) = 1 THEN 'Sunday'\n",
    "        WHEN DAYOFWEEK(BeginDateTime) = 2 THEN 'Monday'\n",
    "        WHEN DAYOFWEEK(BeginDateTime) = 3 THEN 'Tuesday'\n",
    "        WHEN DAYOFWEEK(BeginDateTime) = 4 THEN 'Wednesday'\n",
    "        WHEN DAYOFWEEK(BeginDateTime) = 5 THEN 'Thursday'\n",
    "        WHEN DAYOFWEEK(BeginDateTime) = 6 THEN 'Friday'\n",
    "        ELSE 'Saturday'\n",
    "    END AS DayOfWeek,\n",
    "    HOUR(BeginDateTime) AS TimeOfDay,\n",
    "    CASE \n",
    "        WHEN DAYOFWEEK(BeginDateTime) IN (1,7) THEN 1\n",
    "        ELSE 0\n",
    "    END AS IsWeekend\n",
    "FROM \n",
    "    Staging_Transaction_Logs;\n",
    "\"\"\"\n",
    "\n",
    "# Execute the queries\n",
    "with connection.cursor() as cursor:\n",
    "    cursor.execute(create_time_dimension_query)\n",
    "    cursor.execute(populate_time_dimension_query)\n",
    "    connection.commit()  \n"
   ]
  },
  {
   "cell_type": "code",
   "execution_count": 110,
   "id": "7d98f6e7-2c58-4d15-aecd-2debe275309e",
   "metadata": {
    "tags": []
   },
   "outputs": [],
   "source": [
    "#insert into time dimension from operation log staging table as well\n",
    "\n",
    "populate_time_dimension_query2 = \"\"\"\n",
    "INSERT IGNORE INTO TimeDimension (HourID, Date, Week, Month, Year, DayOfWeek, TimeOfDay, IsWeekend)\n",
    "SELECT DISTINCT \n",
    "    YEAR(BeginDateTime) * 1000000 + MONTH(BeginDateTime) * 10000 + DAY(BeginDateTime) * 100 + HOUR(BeginDateTime) AS HourID,\n",
    "    DATE(BeginDateTime) AS Date,\n",
    "    WEEK(BeginDateTime) AS Week,\n",
    "    MONTH(BeginDateTime) AS Month,\n",
    "    YEAR(BeginDateTime) AS Year,\n",
    "    CASE \n",
    "        WHEN DAYOFWEEK(BeginDateTime) = 1 THEN 'Sunday'\n",
    "        WHEN DAYOFWEEK(BeginDateTime) = 2 THEN 'Monday'\n",
    "        WHEN DAYOFWEEK(BeginDateTime) = 3 THEN 'Tuesday'\n",
    "        WHEN DAYOFWEEK(BeginDateTime) = 4 THEN 'Wednesday'\n",
    "        WHEN DAYOFWEEK(BeginDateTime) = 5 THEN 'Thursday'\n",
    "        WHEN DAYOFWEEK(BeginDateTime) = 6 THEN 'Friday'\n",
    "        ELSE 'Saturday'\n",
    "    END AS DayOfWeek,\n",
    "    HOUR(BeginDateTime) AS TimeOfDay,\n",
    "    CASE \n",
    "        WHEN DAYOFWEEK(BeginDateTime) IN (1,7) THEN 1\n",
    "        ELSE 0\n",
    "    END AS IsWeekend\n",
    "FROM \n",
    "    Staging_Operation_Logs;\n",
    "\"\"\"\n",
    "\n",
    "# Execute the queries\n",
    "with connection.cursor() as cursor:\n",
    "    cursor.execute(populate_time_dimension_query2)\n",
    "    connection.commit()  "
   ]
  },
  {
   "cell_type": "code",
   "execution_count": 111,
   "id": "7489f34f-4c58-4678-ad8c-e0ab355f1837",
   "metadata": {
    "tags": []
   },
   "outputs": [],
   "source": [
    "# Creating CashierDimension table\n",
    "create_cashier_dimension_query = \"\"\"\n",
    "CREATE TABLE CashierDimension (\n",
    "    OperatorID INT PRIMARY KEY,\n",
    "    CashierName VARCHAR(255) NULL,\n",
    "    HireDate DATE NULL,\n",
    "    Position VARCHAR(255) NULL,\n",
    "    TrainingLevel VARCHAR(255) NULL\n",
    ");\n",
    "\"\"\"\n",
    "\n",
    "# Populating CashierDimension table with OperatorID values\n",
    "populate_cashier_dimension_query = \"\"\"\n",
    "INSERT INTO CashierDimension (OperatorID)\n",
    "SELECT DISTINCT OperatorID\n",
    "FROM Staging_Operation_Logs;  \n",
    "\"\"\"\n",
    "\n",
    "# Execute the queries\n",
    "with connection.cursor() as cursor:\n",
    "    cursor.execute(create_cashier_dimension_query)\n",
    "    cursor.execute(populate_cashier_dimension_query)\n",
    "    connection.commit()  # Commit the changes to the database\n"
   ]
  },
  {
   "cell_type": "code",
   "execution_count": 112,
   "id": "e42af2f4-cb08-4305-9c7a-b2c5a0bbb0d1",
   "metadata": {
    "tags": []
   },
   "outputs": [],
   "source": [
    "# Creating PaymentMethodDimension table\n",
    "create_payment_method_dimension_query = \"\"\"\n",
    "CREATE TABLE PaymentMethodDimension (\n",
    "    PaymentMethodID INT PRIMARY KEY,\n",
    "    PaymentTypeName VARCHAR(255),\n",
    "    IsDigital BOOLEAN,\n",
    "    PaymentProvider VARCHAR(255)\n",
    ");\n",
    "\"\"\"\n",
    "\n",
    "# Inserting values for Cash and Card into PaymentMethodDimension table\n",
    "insert_values_query = \"\"\"\n",
    "INSERT INTO PaymentMethodDimension (PaymentMethodID, PaymentTypeName, IsDigital, PaymentProvider)\n",
    "VALUES \n",
    "(1, 'Cash', FALSE, NULL),\n",
    "(2, 'Card', TRUE, NULL);\n",
    "\"\"\"\n",
    "# Insert values for Cash and Card into PaymentMethodDimension table\n",
    "insert_values_query2 = \"\"\"\n",
    "  INSERT INTO PaymentMethodDimension (PaymentMethodID, PaymentTypeName, IsDigital, PaymentProvider)\n",
    "VALUES \n",
    "(3, 'not_provided', NULL, NULL);\n",
    "\"\"\"\n",
    "# Execute the queries\n",
    "with connection.cursor() as cursor:\n",
    "    cursor.execute(create_payment_method_dimension_query)\n",
    "    cursor.execute(insert_values_query)\n",
    "    cursor.execute(insert_values_query2)\n",
    "    connection.commit()  # Commit the changes to the database\n",
    "    \n"
   ]
  },
  {
   "cell_type": "code",
   "execution_count": 113,
   "id": "d721926b-461b-4865-b475-f4cbcf24ea99",
   "metadata": {
    "tags": []
   },
   "outputs": [],
   "source": [
    "# Creating TransactionDimension table\n",
    "create_transaction_dimension_query = \"\"\"\n",
    "CREATE TABLE TransactionDimension (\n",
    "    TransactionKey BIGINT PRIMARY KEY,\n",
    "    TranID BIGINT,\n",
    "    TranType VARCHAR(255) NULL,\n",
    "    BasketSize INT,\n",
    "    TotalValue DECIMAL(10,2)\n",
    ");\n",
    "\"\"\"\n",
    "\n",
    "# Populating TransactionDimension table with values from the staging table\n",
    "populate_transaction_dimension_query = \"\"\"\n",
    "INSERT INTO TransactionDimension (TransactionKey, TranID, BasketSize, TotalValue)\n",
    "SELECT \n",
    "    TransactionKey,\n",
    "    TranID,\n",
    "    ArtNum AS BasketSize,\n",
    "    Amount AS TotalValue\n",
    "FROM Staging_Transaction_Logs;  \n",
    "\"\"\"\n",
    "populate_transaction_dimension_query2 = \"\"\"\n",
    "INSERT INTO TransactionDimension (TransactionKey, TranID, BasketSize, TotalValue)\n",
    "SELECT \n",
    "    TransactionKey,\n",
    "    TranID,\n",
    "    NULL AS BasketSize,\n",
    "    NULL AS TotalValue\n",
    "FROM Staging_Operation_Logs;\n",
    "\"\"\"\n",
    "\n",
    "\n",
    "# Execute the queries\n",
    "with connection.cursor() as cursor:\n",
    "    cursor.execute(create_transaction_dimension_query)\n",
    "    cursor.execute(populate_transaction_dimension_query)\n",
    "    cursor.execute(populate_transaction_dimension_query2)\n",
    "    connection.commit()  # Commit the changes to the database\n"
   ]
  },
  {
   "cell_type": "code",
   "execution_count": 114,
   "id": "950b40e5-75c1-47c1-9a50-d4fdfd25dcc3",
   "metadata": {
    "tags": []
   },
   "outputs": [],
   "source": [
    "# Creating CheckoutStationDimension table\n",
    "create_checkout_station_dimension_query = \"\"\"\n",
    "CREATE TABLE CheckoutStationDimension (\n",
    "    WorkstationGroupID INT,\n",
    "    WorkstationID INT PRIMARY KEY,\n",
    "    StationLocation VARCHAR(255) NULL,\n",
    "    IsSelfService BOOLEAN\n",
    ");\n",
    "\"\"\"\n",
    "\n",
    "# Populating CheckoutStationDimension table with values from the staging table\n",
    "populate_checkout_station_dimension_query = \"\"\"\n",
    "INSERT INTO CheckoutStationDimension (WorkstationGroupID, WorkstationID, IsSelfService)\n",
    "SELECT DISTINCT\n",
    "    WorkstationGroupID,\n",
    "    WorkstationID,\n",
    "    CASE WHEN WorkstationGroupID = 8 THEN TRUE ELSE FALSE END AS IsSelfService\n",
    "FROM Staging_Operation_Logs;  \n",
    "\"\"\"\n",
    "populate_checkout_station_dimension_query2 = \"\"\"\n",
    "INSERT INTO CheckoutStationDimension (WorkstationGroupID, WorkstationID, StationLocation, IsSelfService)\n",
    "VALUES \n",
    "(3, 24, 'not_provided', NULL);\n",
    "\"\"\"\n",
    "# Execute the queries\n",
    "with connection.cursor() as cursor:\n",
    "    cursor.execute(create_checkout_station_dimension_query)\n",
    "    cursor.execute(populate_checkout_station_dimension_query)\n",
    "    cursor.execute(populate_checkout_station_dimension_query2)\n",
    "    connection.commit()  # Commit the changes to the database\n",
    "    "
   ]
  },
  {
   "cell_type": "code",
   "execution_count": 115,
   "id": "b8fa9147-ca94-4a3c-a9f1-1209f2c196c9",
   "metadata": {
    "tags": []
   },
   "outputs": [],
   "source": [
    "# Creating TransactionsFact table with FactID as the surrogate key\n",
    "create_transactions_fact_query = \"\"\"\n",
    "CREATE TABLE TransactionsFact (\n",
    "    FactID BIGINT AUTO_INCREMENT PRIMARY KEY,\n",
    "    TransactionID BIGINT,\n",
    "    HourID INT,\n",
    "    OperatorID INT,\n",
    "    PaymentMethodID INT,\n",
    "    WorkstationID INT,\n",
    "    TotalSales DECIMAL(10, 2),\n",
    "    TotalItemsProcessed INT,\n",
    "    TransactionTime INT,\n",
    "    BreakDuration BIGINT,\n",
    "    FOREIGN KEY (HourID) REFERENCES TimeDimension(HourID),\n",
    "    FOREIGN KEY (PaymentMethodID) REFERENCES PaymentMethodDimension(PaymentMethodID),\n",
    "    FOREIGN KEY (WorkstationID) REFERENCES CheckoutStationDimension(WorkstationID),\n",
    "    FOREIGN KEY (TransactionID) REFERENCES TransactionDimension(TransactionKey)\n",
    ");\n",
    "\n",
    "\"\"\"\n",
    "\n",
    "# Execute the queries\n",
    "with connection.cursor() as cursor:\n",
    "    cursor.execute(create_transactions_fact_query)\n",
    "    connection.commit()\n"
   ]
  },
  {
   "cell_type": "code",
   "execution_count": 116,
   "id": "555767c8-8763-466e-b40a-f2688316f1ae",
   "metadata": {
    "tags": []
   },
   "outputs": [],
   "source": [
    "#Creating intermediate staging table between staging table and fact table for calculating aggregates\n",
    "\n",
    "create_Intermediate_Transaction_Aggregates_query = \"\"\"\n",
    "CREATE TABLE Intermediate_Transaction_Aggregates (\n",
    "    TransactionKey BIGINT PRIMARY KEY,\n",
    "    HourID INT,\n",
    "    OperatorID INT,\n",
    "    PaymentMethodID INT,  -- Will be derived from TNcash and TNcard\n",
    "    TotalSales DECIMAL(10,2),\n",
    "    TotalItemsProcessed INT,\n",
    "    AvgTransactionTime DECIMAL(10,2)\n",
    ");\n",
    "\"\"\"\n",
    "\n",
    "# Execute the queries\n",
    "with connection.cursor() as cursor:\n",
    "    cursor.execute(create_Intermediate_Transaction_Aggregates_query)\n",
    "    connection.commit()"
   ]
  },
  {
   "cell_type": "code",
   "execution_count": 117,
   "id": "45b76078-1f16-401c-86d4-8092eef7e536",
   "metadata": {
    "tags": []
   },
   "outputs": [],
   "source": [
    "#inserting into transaction aggregates staging table\n",
    "populate_Intermediate_Transaction_Aggregates_query = \"\"\"\n",
    "INSERT INTO Intermediate_Transaction_Aggregates \n",
    "(TransactionKey, HourID, OperatorID, PaymentMethodID, TotalSales, TotalItemsProcessed, AvgTransactionTime)\n",
    "SELECT \n",
    "    stl.TransactionKey,\n",
    "    HOUR(stl.BeginDateTime) * 10000 + DAY(stl.BeginDateTime) * 100 + MONTH(stl.BeginDateTime) AS HourID,\n",
    "    stl.OperatorID,\n",
    "    CASE \n",
    "        WHEN stl.TNcash = 1 THEN 1  -- 1 for Cash\n",
    "        WHEN stl.TNcard = 1 THEN 2  -- 2 for Card\n",
    "        ELSE NULL \n",
    "    END AS PaymentMethodID,\n",
    "    stl.Amount AS TotalSales,\n",
    "    stl.ArtNum AS TotalItemsProcessed,\n",
    "    stl.TranTime AS AvgTransactionTime\n",
    "FROM \n",
    "    Staging_Transaction_Logs stl;\n",
    "\"\"\"\n",
    "# Execute the queries\n",
    "with connection.cursor() as cursor:\n",
    "    cursor.execute(populate_Intermediate_Transaction_Aggregates_query)\n",
    "    connection.commit()  # Commit the changes to the database\n",
    "    "
   ]
  },
  {
   "cell_type": "code",
   "execution_count": 118,
   "id": "ae6f1383-0379-4233-b515-d882dbf725ff",
   "metadata": {
    "tags": []
   },
   "outputs": [],
   "source": [
    "#Creating intermediate staging table between staging table and fact table for calculating aggregates\n",
    "\n",
    "create_Intermediate_operation_Aggregates_query = \"\"\"\n",
    "CREATE TABLE Intermediate_Operation_Aggregates (\n",
    "    TransactionKey BIGINT,    \n",
    "    OperatorID INT,\n",
    "    HourID INT,\n",
    "    WorkstationID INT,        -- Added WorkstationID\n",
    "    TotalBreakDurationInSeconds INT,\n",
    "    PRIMARY KEY (TransactionKey, OperatorID, HourID, WorkstationID)  -- Including WorkstationID in the primary key\n",
    ");\n",
    "\"\"\"\n",
    "\n",
    "# Execute the queries\n",
    "with connection.cursor() as cursor:\n",
    "    cursor.execute(create_Intermediate_operation_Aggregates_query)\n",
    "    connection.commit()\n"
   ]
  },
  {
   "cell_type": "code",
   "execution_count": 119,
   "id": "c98306fc-f64e-4bcc-aff6-cf25e70a47a5",
   "metadata": {
    "tags": []
   },
   "outputs": [],
   "source": [
    "#creating temporary table for insertion\n",
    "\n",
    "create_temp_table_query = \"\"\"\n",
    "CREATE TEMPORARY TABLE TempUnlockDates AS\n",
    "SELECT \n",
    "    sol.OperatorID,\n",
    "    sol.BeginDateTime AS LockDateTime,\n",
    "    COALESCE((SELECT BeginDateTime \n",
    "              FROM Staging_Operation_Logs AS B \n",
    "              WHERE B.OperatorID = sol.OperatorID \n",
    "              AND B.Items = 'OperatorUnlock' \n",
    "              AND B.BeginDateTime > sol.BeginDateTime\n",
    "              AND DATE(B.BeginDateTime) = DATE(sol.BeginDateTime)\n",
    "              ORDER BY B.BeginDateTime LIMIT 1), sol.BeginDateTime) AS UnlockDateTime\n",
    "FROM \n",
    "    Staging_Operation_Logs AS sol\n",
    "WHERE \n",
    "    sol.Items = 'OperatorLock';\n",
    "\"\"\"\n",
    "insert_with_temp_table_query = \"\"\"\n",
    "INSERT INTO Intermediate_Operation_Aggregates (TransactionKey, OperatorID, HourID, WorkstationID, TotalBreakDurationInSeconds)\n",
    "SELECT \n",
    "    sol.TransactionKey,\n",
    "    sol.OperatorID,\n",
    "    CONCAT(DATE_FORMAT(sol.BeginDateTime, '%Y%m%d'), LPAD(HOUR(sol.BeginDateTime), 2, '0')) AS HourID,\n",
    "    sol.WorkstationID,\n",
    "    SUM(TIMESTAMPDIFF(SECOND, tud.LockDateTime, tud.UnlockDateTime)) AS TotalBreakDurationInSeconds\n",
    "FROM \n",
    "    Staging_Operation_Logs AS sol\n",
    "JOIN\n",
    "    TempUnlockDates tud ON sol.OperatorID = tud.OperatorID AND sol.BeginDateTime = tud.LockDateTime\n",
    "GROUP BY \n",
    "    sol.TransactionKey,\n",
    "    sol.OperatorID, \n",
    "    CONCAT(DATE_FORMAT(sol.BeginDateTime, '%Y%m%d'), LPAD(HOUR(sol.BeginDateTime), 2, '0')),\n",
    "    sol.WorkstationID;\n",
    "\"\"\"\n",
    "# Execute the queries\n",
    "with connection.cursor() as cursor:\n",
    "    cursor.execute(create_temp_table_query)  # Execute the first query to create the temporary table\n",
    "    cursor.execute(insert_with_temp_table_query)  # Execute the second query to insert using the temporary table\n",
    "    connection.commit()  # Commit the changes to the database\n"
   ]
  },
  {
   "cell_type": "code",
   "execution_count": 120,
   "id": "baa22031-359a-4d63-a879-1a9c72982955",
   "metadata": {
    "tags": []
   },
   "outputs": [],
   "source": [
    "#Inserting into fact table based on two intermediate staging tables\n",
    "\n",
    "populate_TransactionsFact_query = \"\"\"\n",
    "INSERT INTO TransactionsFact \n",
    "    (TransactionID, HourID, OperatorID, PaymentMethodID, WorkstationID, TotalSales, TotalItemsProcessed, TransactionTime, BreakDuration) \n",
    "SELECT \n",
    "    TransactionKey, \n",
    "    HourID, \n",
    "    OperatorID, \n",
    "    PaymentMethodID, \n",
    "    24 AS WorkstationID,\n",
    "    TotalSales, \n",
    "    TotalItemsProcessed, \n",
    "    AvgTransactionTime, \n",
    "    NULL \n",
    "FROM Intermediate_Transaction_Aggregates;\n",
    "\"\"\"\n",
    "# Execute the queries\n",
    "with connection.cursor() as cursor:\n",
    "    cursor.execute(populate_TransactionsFact_query)\n",
    "    connection.commit()  # Commit the changes to the database\n",
    "    "
   ]
  },
  {
   "cell_type": "code",
   "execution_count": 121,
   "id": "72014e94-0886-431d-9ba8-746e830a6b68",
   "metadata": {
    "tags": []
   },
   "outputs": [],
   "source": [
    "#Inserting into fact table based on two intermediate staging tables\n",
    "\n",
    "populate_TransactionsFact_query2 = \"\"\"\n",
    "INSERT INTO TransactionsFact \n",
    "    (TransactionID, HourID, OperatorID, WorkstationID, PaymentMethodID, TotalSales, TotalItemsProcessed, TransactionTime, BreakDuration) \n",
    "SELECT \n",
    "    TransactionKey, \n",
    "    HourID, \n",
    "    OperatorID, \n",
    "    WorkstationID,    -- Added WorkstationID\n",
    "    3 AS PaymentMethodID, \n",
    "    NULL AS TotalSales, \n",
    "    NULL AS TotalItemsProcessed, \n",
    "    NULL AS TransactionTime, \n",
    "    TotalBreakDurationInSeconds \n",
    "FROM Intermediate_Operation_Aggregates;\n",
    "\n",
    "\"\"\"\n",
    "# Execute the queries\n",
    "with connection.cursor() as cursor:\n",
    "    cursor.execute(populate_TransactionsFact_query2)\n",
    "    connection.commit()  # Commit the changes to the database\n",
    "    "
   ]
  },
  {
   "cell_type": "code",
   "execution_count": 122,
   "id": "abe2150c-2e7f-446e-a768-3189e33032e7",
   "metadata": {
    "tags": []
   },
   "outputs": [
    {
     "name": "stdout",
     "output_type": "stream",
     "text": [
      "(131612, 523, Decimal('51164.47'))\n",
      "(141612, 494, Decimal('49859.28'))\n",
      "(111612, 465, Decimal('48830.59'))\n",
      "(121612, 513, Decimal('48366.37'))\n",
      "(101612, 445, Decimal('46268.64'))\n"
     ]
    }
   ],
   "source": [
    "# Select Query to fetch data for analysis from datawarehouse\n",
    "Peak_transaction_analysis_query = \"\"\"\n",
    "SELECT \n",
    "    HourID,\n",
    "    COUNT(DISTINCT TransactionID) AS NumberOfTransactions,\n",
    "    SUM(TotalSales) AS TotalSales\n",
    "FROM TransactionsFact\n",
    "GROUP BY HourID\n",
    "ORDER BY TotalSales DESC\n",
    "LIMIT 5;--limit can be increased as needed,this is sample query\n",
    "\"\"\"\n",
    "\n",
    "# Execute the query and fetch results\n",
    "with connection.cursor() as cursor:\n",
    "    cursor.execute(Peak_transaction_analysis_query)\n",
    "    results = cursor.fetchall()\n",
    "\n",
    "# Printing the results\n",
    "for row in results:\n",
    "    print(row)"
   ]
  },
  {
   "cell_type": "code",
   "execution_count": 127,
   "id": "96cc2bb7-eeb2-4e30-ac70-1c32913d1c48",
   "metadata": {
    "tags": []
   },
   "outputs": [],
   "source": [
    "# Select Query to fetch data for analysis from datawarehouse\n",
    "cashier_breaktime_analysis_query = \"\"\"\n",
    "SELECT \n",
    "    OperatorID,\n",
    "    COUNT(DISTINCT TransactionID) AS NumberOfTransactionsWithBreaks,\n",
    "    AVG(BreakDuration) AS AverageBreakDuration\n",
    "FROM TransactionsFact\n",
    "WHERE BreakDuration IS NOT NULL\n",
    "GROUP BY OperatorID\n",
    "ORDER BY AverageBreakDuration DESC;\n",
    "\n",
    "\"\"\"\n",
    "\n",
    "# Execute the query and fetch results\n",
    "with connection.cursor() as cursor:\n",
    "    cursor.execute(cashier_breaktime_analysis_query)\n",
    "    results = cursor.fetchall()\n",
    "    \n",
    "    columns = [desc[0] for desc in cursor.description]  # Get column names from the cursor description\n",
    "    df_cashier_breaktime_analysis = pd.DataFrame(results, columns=columns)"
   ]
  },
  {
   "cell_type": "code",
   "execution_count": 20,
   "id": "ec4883ea-2308-417b-ad07-e8396eefb53f",
   "metadata": {
    "tags": []
   },
   "outputs": [],
   "source": [
    "import pandas as pd\n",
    "import matplotlib.pyplot as plt\n",
    "import seaborn as sns"
   ]
  },
  {
   "cell_type": "code",
   "execution_count": 129,
   "id": "8b92b2ac-5bdd-40b3-9d68-521a1f3a3fb9",
   "metadata": {
    "tags": []
   },
   "outputs": [
    {
     "name": "stdout",
     "output_type": "stream",
     "text": [
      "OperatorID                         int64\n",
      "NumberOfTransactionsWithBreaks     int64\n",
      "AverageBreakDuration              object\n",
      "dtype: object\n"
     ]
    }
   ],
   "source": [
    "# Check data types of the dataframe\n",
    "print(df_cashier_breaktime_analysis.dtypes)"
   ]
  },
  {
   "cell_type": "code",
   "execution_count": 130,
   "id": "51b5b77c-29a6-4954-aff2-61e39e47436a",
   "metadata": {
    "tags": []
   },
   "outputs": [],
   "source": [
    "# Converting 'AverageBreakDuration' to float\n",
    "df_cashier_breaktime_analysis['AverageBreakDuration'] = df_cashier_breaktime_analysis['AverageBreakDuration'].astype(float)\n"
   ]
  },
  {
   "cell_type": "code",
   "execution_count": 131,
   "id": "fe9e6407-70f6-4bb2-beaa-e0db2dec0339",
   "metadata": {
    "tags": []
   },
   "outputs": [
    {
     "data": {
      "image/png": "[encoded data removed]",
      "text/plain": [
       "<Figure size 1200x700 with 1 Axes>"
      ]
     },
     "metadata": {},
     "output_type": "display_data"
    }
   ],
   "source": [
    "# Plotting\n",
    "plt.figure(figsize=(12, 7))\n",
    "df_cashier_breaktime_analysis.set_index('OperatorID')['AverageBreakDuration'].plot(kind='bar', color='mediumaquamarine')\n",
    "plt.title('Average Break Duration per Operator')\n",
    "plt.ylabel('Average Break Duration')\n",
    "plt.xlabel('Operator ID')\n",
    "plt.xticks(rotation=45)\n",
    "plt.tight_layout()\n",
    "plt.show()"
   ]
  },
  {
   "cell_type": "code",
   "execution_count": 7,
   "id": "3c82c2b8-48f3-4d22-93ca-3fa6ce122259",
   "metadata": {},
   "outputs": [],
   "source": [
    "# Select Query to fetch transaction count and average value by hour from the data warehouse\n",
    "hourly_transaction_analysis_query = \"\"\"\n",
    "SELECT \n",
    "    td.HourID,\n",
    "    COUNT(DISTINCT tf.TransactionID) AS NumberOfTransactions,\n",
    "    AVG(tf.TotalSales) AS AverageTransactionValue\n",
    "FROM TransactionsFact tf\n",
    "JOIN TimeDimension td ON tf.HourID = td.HourID\n",
    "WHERE tf.TotalSales IS NOT NULL\n",
    "GROUP BY td.HourID\n",
    "ORDER BY NumberOfTransactions DESC;\n",
    "\"\"\"\n",
    "\n",
    "# Execute the query and fetch results\n",
    "with connection.cursor() as cursor:\n",
    "    cursor.execute(hourly_transaction_analysis_query)\n",
    "    hourly_results = cursor.fetchall()\n",
    "    \n",
    "    hourly_columns = [desc[0] for desc in cursor.description]  # Get column names from the cursor description\n",
    "    df_hourly_transaction_analysis = pd.DataFrame(hourly_results, columns=hourly_columns)\n"
   ]
  },
  {
   "cell_type": "code",
   "execution_count": 8,
   "id": "3c361155-3f94-45ae-9ded-533a0349fa5d",
   "metadata": {
    "tags": []
   },
   "outputs": [
    {
     "data": {
      "image/png": "[encoded data removed]",
      "text/plain": [
       "<Figure size 1200x700 with 1 Axes>"
      ]
     },
     "metadata": {},
     "output_type": "display_data"
    }
   ],
   "source": [
    "# Plotting the number of transactions by hour\n",
    "plt.figure(figsize=(12, 7))\n",
    "df_hourly_transaction_analysis.set_index('HourID')['NumberOfTransactions'].plot(kind='bar', color='lightblue')\n",
    "plt.title('Number of Transactions by Hour')\n",
    "plt.ylabel('Number of Transactions')\n",
    "plt.xlabel('Hour of Day')\n",
    "plt.xticks(rotation=0)  # No need to rotate if the HourID is just an hour number\n",
    "plt.tight_layout()\n",
    "plt.show()"
   ]
  },
  {
   "cell_type": "code",
   "execution_count": 14,
   "id": "1254dd12-6327-450b-a815-eeeb90ad57b3",
   "metadata": {
    "tags": []
   },
   "outputs": [],
   "source": [
    "# SQL query to retrieve total sales by hour across all Saturdays and Sundays in 2017\n",
    "total_sales_weekends_query = \"\"\"\n",
    "SELECT \n",
    "    td.HourID,\n",
    "    td.DayOfWeek,\n",
    "    AVG(tf.TotalSales) AS AvgTotalSales\n",
    "FROM TransactionsFact tf\n",
    "JOIN TimeDimension td ON tf.HourID = td.HourID\n",
    "WHERE YEAR(td.Date) = 2017 AND td.DayOfWeek IN ('Saturday', 'Sunday')\n",
    "GROUP BY td.HourID, td.DayOfWeek\n",
    "ORDER BY td.DayOfWeek, td.HourID;\n",
    "\"\"\"\n",
    "\n",
    "# Execute the query and fetch results\n",
    "with connection.cursor() as cursor:\n",
    "    cursor.execute(total_sales_weekends_query)\n",
    "    total_sales_weekends_results = cursor.fetchall()\n",
    "    \n",
    "    # Extract column names from the cursor description\n",
    "    total_sales_weekends_columns = [desc[0] for desc in cursor.description]\n",
    "    # Create a DataFrame with the results\n",
    "    df_total_sales_weekends = pd.DataFrame(total_sales_weekends_results, columns=total_sales_weekends_columns)\n"
   ]
  },
  {
   "cell_type": "code",
   "execution_count": 16,
   "id": "54c1b31d-dae1-41ba-9c45-b7cf4dffef22",
   "metadata": {
    "tags": []
   },
   "outputs": [
    {
     "data": {
      "image/png": "[encoded data removed]",
      "text/plain": [
       "<Figure size 1200x700 with 1 Axes>"
      ]
     },
     "metadata": {},
     "output_type": "display_data"
    }
   ],
   "source": [
    "# Separate the data for Saturdays and Sundays\n",
    "df_saturday_sales = df_total_sales_weekends[df_total_sales_weekends['DayOfWeek'] == 'Saturday']\n",
    "df_sunday_sales = df_total_sales_weekends[df_total_sales_weekends['DayOfWeek'] == 'Sunday']\n",
    "\n",
    "# Plotting the average total sales by hour for Saturdays and Sundays\n",
    "plt.figure(figsize=(12, 7))\n",
    "plt.plot(df_saturday_sales['HourID'], df_saturday_sales['AvgTotalSales'], label='Saturday', color='green')\n",
    "plt.plot(df_sunday_sales['HourID'], df_sunday_sales['AvgTotalSales'], label='Sunday', color='orange')\n",
    "\n",
    "plt.title('Average Total Sales by Hour on Weekends in 2017')\n",
    "plt.ylabel('Average Total Sales')\n",
    "plt.xlabel('Hour of Day')\n",
    "plt.legend()\n",
    "plt.grid(True)\n",
    "plt.show()\n"
   ]
  },
  {
   "cell_type": "code",
   "execution_count": 24,
   "id": "5ac83124-c22d-4be1-80b8-6c225b135acd",
   "metadata": {
    "tags": []
   },
   "outputs": [
    {
     "data": {
      "text/html": [
       "<div>\n",
       "<style scoped>\n",
       "    .dataframe tbody tr th:only-of-type {\n",
       "        vertical-align: middle;\n",
       "    }\n",
       "\n",
       "    .dataframe tbody tr th {\n",
       "        vertical-align: top;\n",
       "    }\n",
       "\n",
       "    .dataframe thead th {\n",
       "        text-align: right;\n",
       "    }\n",
       "</style>\n",
       "<table border=\"1\" class=\"dataframe\">\n",
       "  <thead>\n",
       "    <tr style=\"text-align: right;\">\n",
       "      <th></th>\n",
       "      <th>OperatorID</th>\n",
       "      <th>TotalBreakTime</th>\n",
       "    </tr>\n",
       "  </thead>\n",
       "  <tbody>\n",
       "    <tr>\n",
       "      <th>0</th>\n",
       "      <td>269</td>\n",
       "      <td>None</td>\n",
       "    </tr>\n",
       "    <tr>\n",
       "      <th>1</th>\n",
       "      <td>107</td>\n",
       "      <td>1835</td>\n",
       "    </tr>\n",
       "    <tr>\n",
       "      <th>2</th>\n",
       "      <td>113</td>\n",
       "      <td>1000</td>\n",
       "    </tr>\n",
       "    <tr>\n",
       "      <th>3</th>\n",
       "      <td>266</td>\n",
       "      <td>None</td>\n",
       "    </tr>\n",
       "    <tr>\n",
       "      <th>4</th>\n",
       "      <td>268</td>\n",
       "      <td>None</td>\n",
       "    </tr>\n",
       "  </tbody>\n",
       "</table>\n",
       "</div>"
      ],
      "text/plain": [
       "   OperatorID TotalBreakTime\n",
       "0         269           None\n",
       "1         107           1835\n",
       "2         113           1000\n",
       "3         266           None\n",
       "4         268           None"
      ]
     },
     "execution_count": 24,
     "metadata": {},
     "output_type": "execute_result"
    }
   ],
   "source": [
    "# Query to get total break time for each cashier in 2017\n",
    "break_time_query = \"\"\"\n",
    "SELECT \n",
    "    OperatorID,\n",
    "    SUM(BreakDuration) AS TotalBreakTime\n",
    "FROM TransactionsFact\n",
    "JOIN TimeDimension ON TransactionsFact.HourID = TimeDimension.HourID\n",
    "WHERE YEAR(TimeDimension.Date) = 2017\n",
    "GROUP BY OperatorID;\n",
    "\"\"\"\n",
    "\n",
    "# Execute the query and store the results in a DataFrame\n",
    "with connection.cursor() as cursor:\n",
    "    cursor.execute(break_time_query)\n",
    "    break_time_results = cursor.fetchall()\n",
    "    df_break_time = pd.DataFrame(break_time_results, columns=['OperatorID', 'TotalBreakTime'])\n",
    "\n",
    "# Display the DataFrame\n",
    "df_break_time.head()\n"
   ]
  },
  {
   "cell_type": "code",
   "execution_count": 39,
   "id": "a53359de-d326-4167-9911-8970e7c89034",
   "metadata": {
    "tags": []
   },
   "outputs": [
    {
     "data": {
      "image/png": "[encoded data removed]",
      "text/plain": [
       "<Figure size 1000x600 with 1 Axes>"
      ]
     },
     "metadata": {},
     "output_type": "display_data"
    }
   ],
   "source": [
    "# First convert 'TotalBreakTime' to numeric to handle any non-numeric issues\n",
    "df_break_time['TotalBreakTime'] = pd.to_numeric(df_break_time['TotalBreakTime'], errors='coerce')\n",
    "\n",
    "# Now sort the DataFrame by 'TotalBreakTime' in descending order\n",
    "df_break_time_sorted = df_break_time.sort_values(by='TotalBreakTime', ascending=False)\n",
    "\n",
    "# Reset the index so that 'OperatorID' is a column again, for plotting purposes\n",
    "df_break_time_sorted.reset_index(drop=True, inplace=True)\n",
    "\n",
    "# Now plot the sorted DataFrame\n",
    "plt.figure(figsize=(10, 6))\n",
    "plt.bar(x=df_break_time_sorted.index, height=df_break_time_sorted['TotalBreakTime'])\n",
    "plt.xticks(ticks=df_break_time_sorted.index, labels=df_break_time_sorted['OperatorID'], rotation=45)\n",
    "plt.title('Total Break Time by Cashier (2017)')\n",
    "plt.xlabel('Cashier Operator ID')\n",
    "plt.ylabel('Total Break Time (Seconds)')\n",
    "plt.tight_layout()\n",
    "plt.show()"
   ]
  },
  {
   "cell_type": "code",
   "execution_count": 25,
   "id": "dbe2a0d8-df19-4998-a635-d37efd70b68b",
   "metadata": {
    "tags": []
   },
   "outputs": [
    {
     "data": {
      "text/html": [
       "<div>\n",
       "<style scoped>\n",
       "    .dataframe tbody tr th:only-of-type {\n",
       "        vertical-align: middle;\n",
       "    }\n",
       "\n",
       "    .dataframe tbody tr th {\n",
       "        vertical-align: top;\n",
       "    }\n",
       "\n",
       "    .dataframe thead th {\n",
       "        text-align: right;\n",
       "    }\n",
       "</style>\n",
       "<table border=\"1\" class=\"dataframe\">\n",
       "  <thead>\n",
       "    <tr style=\"text-align: right;\">\n",
       "      <th></th>\n",
       "      <th>OperatorID</th>\n",
       "      <th>TotalBasketSize</th>\n",
       "    </tr>\n",
       "  </thead>\n",
       "  <tbody>\n",
       "    <tr>\n",
       "      <th>0</th>\n",
       "      <td>269</td>\n",
       "      <td>14000</td>\n",
       "    </tr>\n",
       "    <tr>\n",
       "      <th>1</th>\n",
       "      <td>107</td>\n",
       "      <td>11931</td>\n",
       "    </tr>\n",
       "    <tr>\n",
       "      <th>2</th>\n",
       "      <td>113</td>\n",
       "      <td>8384</td>\n",
       "    </tr>\n",
       "    <tr>\n",
       "      <th>3</th>\n",
       "      <td>266</td>\n",
       "      <td>29027</td>\n",
       "    </tr>\n",
       "    <tr>\n",
       "      <th>4</th>\n",
       "      <td>268</td>\n",
       "      <td>31382</td>\n",
       "    </tr>\n",
       "  </tbody>\n",
       "</table>\n",
       "</div>"
      ],
      "text/plain": [
       "   OperatorID TotalBasketSize\n",
       "0         269           14000\n",
       "1         107           11931\n",
       "2         113            8384\n",
       "3         266           29027\n",
       "4         268           31382"
      ]
     },
     "execution_count": 25,
     "metadata": {},
     "output_type": "execute_result"
    }
   ],
   "source": [
    "# Query to get total basket size handled by each cashier in 2017\n",
    "basket_size_query = \"\"\"\n",
    "SELECT \n",
    "    OperatorID,\n",
    "    SUM(TotalItemsProcessed) AS TotalBasketSize\n",
    "FROM TransactionsFact\n",
    "JOIN TimeDimension ON TransactionsFact.HourID = TimeDimension.HourID\n",
    "WHERE YEAR(TimeDimension.Date) = 2017\n",
    "GROUP BY OperatorID;\n",
    "\"\"\"\n",
    "\n",
    "# Execute the query and store the results in a DataFrame\n",
    "with connection.cursor() as cursor:\n",
    "    cursor.execute(basket_size_query)\n",
    "    basket_size_results = cursor.fetchall()\n",
    "    df_basket_size = pd.DataFrame(basket_size_results, columns=['OperatorID', 'TotalBasketSize'])\n",
    "\n",
    "# Display the DataFrame\n",
    "df_basket_size.head()\n"
   ]
  },
  {
   "cell_type": "code",
   "execution_count": 40,
   "id": "6092cb8f-cee5-45a0-9234-f411b6af9a95",
   "metadata": {
    "tags": []
   },
   "outputs": [
    {
     "data": {
      "image/png": "[encoded data removed]",
      "text/plain": [
       "<Figure size 1000x600 with 1 Axes>"
      ]
     },
     "metadata": {},
     "output_type": "display_data"
    }
   ],
   "source": [
    "# Sort the DataFrame in descending order by total basket size\n",
    "df_basket_size['TotalBasketSize'] = pd.to_numeric(df_basket_size['TotalBasketSize'], errors='coerce')\n",
    "df_basket_size_sorted = df_basket_size.sort_values(by='TotalBasketSize', ascending=False)\n",
    "\n",
    "# Reset the index so that 'OperatorID' is a column again, for plotting purposes\n",
    "df_basket_size_sorted.reset_index(drop=True, inplace=True)\n",
    "\n",
    "# Now plot the sorted DataFrame\n",
    "plt.figure(figsize=(10, 6))\n",
    "plt.bar(x=df_basket_size_sorted.index, height=df_basket_size_sorted['TotalBasketSize'], color='orange')\n",
    "plt.xticks(ticks=df_basket_size_sorted.index, labels=df_basket_size_sorted['OperatorID'], rotation=45)\n",
    "plt.title('Total Basket Size Handled by Cashier (2017)')\n",
    "plt.xlabel('Cashier Operator ID')\n",
    "plt.ylabel('Total Basket Size')\n",
    "plt.tight_layout()\n",
    "plt.show()"
   ]
  },
  {
   "cell_type": "code",
   "execution_count": 27,
   "id": "b9172c38-87e9-407b-93e0-b5d47c60a56a",
   "metadata": {
    "tags": []
   },
   "outputs": [
    {
     "data": {
      "text/html": [
       "<div>\n",
       "<style scoped>\n",
       "    .dataframe tbody tr th:only-of-type {\n",
       "        vertical-align: middle;\n",
       "    }\n",
       "\n",
       "    .dataframe tbody tr th {\n",
       "        vertical-align: top;\n",
       "    }\n",
       "\n",
       "    .dataframe thead th {\n",
       "        text-align: right;\n",
       "    }\n",
       "</style>\n",
       "<table border=\"1\" class=\"dataframe\">\n",
       "  <thead>\n",
       "    <tr style=\"text-align: right;\">\n",
       "      <th></th>\n",
       "      <th>OperatorID</th>\n",
       "      <th>AvgTransactionTime</th>\n",
       "    </tr>\n",
       "  </thead>\n",
       "  <tbody>\n",
       "    <tr>\n",
       "      <th>0</th>\n",
       "      <td>269</td>\n",
       "      <td>104.4919</td>\n",
       "    </tr>\n",
       "    <tr>\n",
       "      <th>1</th>\n",
       "      <td>107</td>\n",
       "      <td>52.6032</td>\n",
       "    </tr>\n",
       "    <tr>\n",
       "      <th>2</th>\n",
       "      <td>113</td>\n",
       "      <td>55.2964</td>\n",
       "    </tr>\n",
       "    <tr>\n",
       "      <th>3</th>\n",
       "      <td>266</td>\n",
       "      <td>106.5048</td>\n",
       "    </tr>\n",
       "    <tr>\n",
       "      <th>4</th>\n",
       "      <td>268</td>\n",
       "      <td>92.7564</td>\n",
       "    </tr>\n",
       "  </tbody>\n",
       "</table>\n",
       "</div>"
      ],
      "text/plain": [
       "   OperatorID AvgTransactionTime\n",
       "0         269           104.4919\n",
       "1         107            52.6032\n",
       "2         113            55.2964\n",
       "3         266           106.5048\n",
       "4         268            92.7564"
      ]
     },
     "execution_count": 27,
     "metadata": {},
     "output_type": "execute_result"
    }
   ],
   "source": [
    "# Query to get average transaction time for each cashier in 2017\n",
    "transaction_time_query = \"\"\"\n",
    "SELECT \n",
    "    OperatorID,\n",
    "    AVG(TransactionTime) AS AvgTransactionTime\n",
    "FROM TransactionsFact\n",
    "JOIN TimeDimension ON TransactionsFact.HourID = TimeDimension.HourID\n",
    "WHERE YEAR(TimeDimension.Date) = 2017\n",
    "GROUP BY OperatorID;\n",
    "\"\"\"\n",
    "\n",
    "# Execute the query and store the results in a DataFrame\n",
    "with connection.cursor() as cursor:\n",
    "    cursor.execute(transaction_time_query)\n",
    "    transaction_time_results = cursor.fetchall()\n",
    "    df_transaction_time = pd.DataFrame(transaction_time_results, columns=['OperatorID', 'AvgTransactionTime'])\n",
    "\n",
    "# Display the DataFrame\n",
    "df_transaction_time.head()\n"
   ]
  },
  {
   "cell_type": "code",
   "execution_count": 41,
   "id": "b5474365-a2e6-436b-82bf-0c5d44ccf028",
   "metadata": {
    "tags": []
   },
   "outputs": [
    {
     "data": {
      "image/png": "[encoded data removed]",
      "text/plain": [
       "<Figure size 1000x600 with 1 Axes>"
      ]
     },
     "metadata": {},
     "output_type": "display_data"
    }
   ],
   "source": [
    "# Convert 'AvgTransactionTime' to numeric to handle any non-numeric issues\n",
    "df_transaction_time['AvgTransactionTime'] = pd.to_numeric(df_transaction_time['AvgTransactionTime'], errors='coerce')\n",
    "\n",
    "# Now sort the DataFrame by 'AvgTransactionTime' in descending order\n",
    "df_transaction_time_sorted = df_transaction_time.sort_values(by='AvgTransactionTime', ascending=False)\n",
    "\n",
    "# Reset the index so that 'OperatorID' is a column again, for plotting purposes\n",
    "df_transaction_time_sorted.reset_index(drop=True, inplace=True)\n",
    "\n",
    "# Now plot the sorted DataFrame\n",
    "plt.figure(figsize=(10, 6))\n",
    "plt.bar(x=df_transaction_time_sorted.index, height=df_transaction_time_sorted['AvgTransactionTime'], color='green')\n",
    "plt.xticks(ticks=df_transaction_time_sorted.index, labels=df_transaction_time_sorted['OperatorID'], rotation=45)\n",
    "plt.title('Average Transaction Time by Cashier (2017)')\n",
    "plt.xlabel('Cashier Operator ID')\n",
    "plt.ylabel('Average Transaction Time (Seconds)')\n",
    "plt.tight_layout()\n",
    "plt.show()"
   ]
  },
  {
   "cell_type": "code",
   "execution_count": 46,
   "id": "fc56276e-22cd-48e4-8445-bbbfa5b64d2f",
   "metadata": {
    "tags": []
   },
   "outputs": [
    {
     "name": "stdout",
     "output_type": "stream",
     "text": [
      "   OperatorID CashTransactions CardTransactions\n",
      "0         107              466              274\n",
      "1         605              322              247\n",
      "2         110             1287              862\n",
      "3         114             1345             1047\n",
      "4         106              844              615\n"
     ]
    }
   ],
   "source": [
    "# SQL query\n",
    "cash_card_transactions_query = \"\"\"\n",
    "SELECT \n",
    "    tf.OperatorID,\n",
    "    SUM(CASE WHEN pmd.PaymentTypeName = 'Cash' THEN 1 ELSE 0 END) AS CashTransactions,\n",
    "    SUM(CASE WHEN pmd.PaymentTypeName = 'Card' THEN 1 ELSE 0 END) AS CardTransactions\n",
    "FROM \n",
    "    TransactionsFact tf\n",
    "JOIN \n",
    "    TimeDimension td ON tf.HourID = td.HourID\n",
    "JOIN \n",
    "    PaymentMethodDimension pmd ON tf.PaymentMethodID = pmd.PaymentMethodID\n",
    "WHERE \n",
    "    YEAR(td.Date) = 2017\n",
    "GROUP BY \n",
    "    tf.OperatorID;\n",
    "\"\"\"\n",
    "\n",
    "# Execute the query and store the results in a DataFrame\n",
    "with connection.cursor() as cursor:\n",
    "    cursor.execute(cash_card_transactions_query)\n",
    "    results = cursor.fetchall()\n",
    "    columns = [desc[0] for desc in cursor.description]\n",
    "    df_cash_card_transactions = pd.DataFrame(results, columns=columns)\n",
    "\n",
    "# Display the DataFrame\n",
    "print(df_cash_card_transactions.head())"
   ]
  },
  {
   "cell_type": "code",
   "execution_count": 56,
   "id": "75f789fd-4767-4245-9acc-5f9393838395",
   "metadata": {
    "tags": []
   },
   "outputs": [
    {
     "data": {
      "image/png": "[encoded data removed]",
      "text/plain": [
       "<Figure size 2000x1000 with 1 Axes>"
      ]
     },
     "metadata": {},
     "output_type": "display_data"
    }
   ],
   "source": [
    "import numpy as np\n",
    "\n",
    "df_cash_card_transactions_sorted = df_cash_card_transactions.sort_values('CardTransactions', ascending=False)\n",
    "\n",
    "# Set the width of the bars\n",
    "bar_width = 0.35\n",
    "\n",
    "# Set the positions of the bars\n",
    "index = np.arange(len(df_cash_card_transactions_sorted))\n",
    "\n",
    "# Create the figure and the axes\n",
    "fig, ax = plt.subplots(figsize=(20, 10))\n",
    "\n",
    "# Choose a different color combination\n",
    "colors = ['#009688', '#FF9800']  # Light red and light blue\n",
    "\n",
    "# Plot cash transactions\n",
    "cash_bars = ax.bar(index, df_cash_card_transactions_sorted['CashTransactions'], bar_width, label='Cash', color=colors[0])\n",
    "\n",
    "# Plot card transactions with an offset of 'bar_width' to put it next to the cash bars\n",
    "card_bars = ax.bar(index + bar_width, df_cash_card_transactions_sorted['CardTransactions'], bar_width, label='Card', color=colors[1])\n",
    "\n",
    "# Add labels, title, and legend\n",
    "ax.set_xlabel('Operator ID')\n",
    "ax.set_ylabel('Number of Transactions')\n",
    "ax.set_title('Number of Cash and Card Transactions by Cashier for 2017')\n",
    "ax.set_xticks(index + bar_width / 2)  # Positioning the x-ticks in the middle of the grouped bars\n",
    "ax.set_xticklabels(df_cash_card_transactions_sorted['OperatorID'])\n",
    "ax.legend()\n",
    "\n",
    "# Show the plot\n",
    "plt.xticks(rotation=90)  # Rotate x-ticks if needed\n",
    "plt.tight_layout()\n",
    "plt.show()\n"
   ]
  },
  {
   "cell_type": "code",
   "execution_count": 57,
   "id": "c1b9e194-5173-460c-9991-b001530094d0",
   "metadata": {
    "tags": []
   },
   "outputs": [],
   "source": [
    "connection.commit()"
   ]
  },
  {
   "cell_type": "code",
   "execution_count": 58,
   "id": "4e274fd7-a5e7-42e6-85ea-9fcaffbab1fa",
   "metadata": {
    "tags": []
   },
   "outputs": [
    {
     "data": {
      "text/plain": [
       "False"
      ]
     },
     "execution_count": 58,
     "metadata": {},
     "output_type": "execute_result"
    }
   ],
   "source": [
    "cursor.close()"
   ]
  },
  {
   "cell_type": "code",
   "execution_count": 59,
   "id": "5e68d1de-6302-4464-91c6-a93c069f0144",
   "metadata": {
    "tags": []
   },
   "outputs": [],
   "source": [
    "connection.close()"
   ]
  }
 ],
 "metadata": {
  "kernelspec": {
   "display_name": "Python 3 (ipykernel)",
   "language": "python",
   "name": "python3"
  },
  "language_info": {
   "codemirror_mode": {
    "name": "ipython",
    "version": 3
   },
   "file_extension": ".py",
   "mimetype": "text/x-python",
   "name": "python",
   "nbconvert_exporter": "python",
   "pygments_lexer": "ipython3",
   "version": "3.11.4"
  }
 },
 "nbformat": 4,
 "nbformat_minor": 5
}
